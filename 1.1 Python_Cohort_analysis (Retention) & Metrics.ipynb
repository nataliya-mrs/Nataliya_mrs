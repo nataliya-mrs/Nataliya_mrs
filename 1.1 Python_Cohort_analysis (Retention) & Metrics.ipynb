{
 "cells": [
  {
   "cell_type": "markdown",
   "metadata": {},
   "source": [
    "## Задание"
   ]
  },
  {
   "cell_type": "markdown",
   "metadata": {},
   "source": [
    "### Текст задания:\n",
    "Retention – один из самых важных показателей в компании. Ваша задача – написать функцию, которая будет считать retention игроков (по дням от даты регистрации игрока)."
   ]
  },
  {
   "cell_type": "code",
   "execution_count": 1,
   "metadata": {},
   "outputs": [],
   "source": [
    "import pandas as pd\n",
    "import numpy as np\n",
    "\n",
    "import matplotlib.pyplot as plt\n",
    "import seaborn as sns\n",
    "%matplotlib inline\n",
    "\n",
    "import datetime\n",
    "\n",
    "import requests\n",
    "from urllib.parse import urlencode"
   ]
  },
  {
   "cell_type": "markdown",
   "metadata": {},
   "source": [
    "### Загружаем данные и проводим предобработку"
   ]
  },
  {
   "cell_type": "code",
   "execution_count": 2,
   "metadata": {},
   "outputs": [],
   "source": [
    "def get_data_from_Yandex_disk(url, sep):\n",
    "    \"\"\" \n",
    "    Возвращает df из файла с .csv-расширением, хранящегося на Яндекс-диске,\n",
    "    url - путь на Яндекс-диск,\n",
    "    sep - разделитель в файле csv\n",
    "    \"\"\"\n",
    "    base_url = 'https://cloud-api.yandex.net/v1/disk/public/resources/download?'\n",
    "       \n",
    "    # Получаем загрузочную ссылку\n",
    "    final_url = base_url + urlencode(dict(public_key=url))\n",
    "    response = requests.get(final_url)\n",
    "    download_url = response.json()['href']\n",
    "    \n",
    "    # Загружаем файл и сохраняем его\n",
    "    download_response = requests.get(download_url)\n",
    "    df = pd.read_csv(download_url, sep=sep)\n",
    "    return df"
   ]
  },
  {
   "cell_type": "code",
   "execution_count": 3,
   "metadata": {},
   "outputs": [],
   "source": [
    "auth_data = get_data_from_Yandex_disk('https://disk.yandex.ru/d/KLGQxujRmAc3dQ', sep=';')"
   ]
  },
  {
   "cell_type": "markdown",
   "metadata": {},
   "source": [
    "##### Приводим даты в нужный формат."
   ]
  },
  {
   "cell_type": "code",
   "execution_count": 4,
   "metadata": {},
   "outputs": [
    {
     "data": {
      "text/html": [
       "<div>\n",
       "<style scoped>\n",
       "    .dataframe tbody tr th:only-of-type {\n",
       "        vertical-align: middle;\n",
       "    }\n",
       "\n",
       "    .dataframe tbody tr th {\n",
       "        vertical-align: top;\n",
       "    }\n",
       "\n",
       "    .dataframe thead th {\n",
       "        text-align: right;\n",
       "    }\n",
       "</style>\n",
       "<table border=\"1\" class=\"dataframe\">\n",
       "  <thead>\n",
       "    <tr style=\"text-align: right;\">\n",
       "      <th></th>\n",
       "      <th>auth_ts</th>\n",
       "      <th>uid</th>\n",
       "    </tr>\n",
       "  </thead>\n",
       "  <tbody>\n",
       "    <tr>\n",
       "      <th>0</th>\n",
       "      <td>911382223</td>\n",
       "      <td>1</td>\n",
       "    </tr>\n",
       "    <tr>\n",
       "      <th>1</th>\n",
       "      <td>932683089</td>\n",
       "      <td>2</td>\n",
       "    </tr>\n",
       "    <tr>\n",
       "      <th>2</th>\n",
       "      <td>932921206</td>\n",
       "      <td>2</td>\n",
       "    </tr>\n",
       "    <tr>\n",
       "      <th>3</th>\n",
       "      <td>933393015</td>\n",
       "      <td>2</td>\n",
       "    </tr>\n",
       "    <tr>\n",
       "      <th>4</th>\n",
       "      <td>933875379</td>\n",
       "      <td>2</td>\n",
       "    </tr>\n",
       "  </tbody>\n",
       "</table>\n",
       "</div>"
      ],
      "text/plain": [
       "     auth_ts  uid\n",
       "0  911382223    1\n",
       "1  932683089    2\n",
       "2  932921206    2\n",
       "3  933393015    2\n",
       "4  933875379    2"
      ]
     },
     "execution_count": 4,
     "metadata": {},
     "output_type": "execute_result"
    }
   ],
   "source": [
    "auth_data.head()"
   ]
  },
  {
   "cell_type": "code",
   "execution_count": 5,
   "metadata": {},
   "outputs": [
    {
     "data": {
      "text/plain": [
       "(9601013, 2)"
      ]
     },
     "execution_count": 5,
     "metadata": {},
     "output_type": "execute_result"
    }
   ],
   "source": [
    "auth_data.shape"
   ]
  },
  {
   "cell_type": "code",
   "execution_count": 6,
   "metadata": {},
   "outputs": [
    {
     "data": {
      "text/plain": [
       "2          1929\n",
       "108        1397\n",
       "158        1367\n",
       "176        1331\n",
       "191        1296\n",
       "           ... \n",
       "420829        1\n",
       "420830        1\n",
       "420832        1\n",
       "420835        1\n",
       "1110622       1\n",
       "Name: uid, Length: 1000000, dtype: int64"
      ]
     },
     "execution_count": 6,
     "metadata": {},
     "output_type": "execute_result"
    }
   ],
   "source": [
    "auth_data.uid.value_counts()"
   ]
  },
  {
   "cell_type": "code",
   "execution_count": 7,
   "metadata": {},
   "outputs": [
    {
     "data": {
      "text/plain": [
       "1000000"
      ]
     },
     "execution_count": 7,
     "metadata": {},
     "output_type": "execute_result"
    }
   ],
   "source": [
    "auth_data.uid.nunique()"
   ]
  },
  {
   "cell_type": "code",
   "execution_count": 8,
   "metadata": {},
   "outputs": [],
   "source": [
    "auth_data['auth_ts'] = auth_data['auth_ts'].apply(lambda x: datetime.datetime.fromtimestamp(x).strftime('%Y-%m-%d'))"
   ]
  },
  {
   "cell_type": "code",
   "execution_count": 9,
   "metadata": {},
   "outputs": [],
   "source": [
    "auth_data['auth_ts'] = pd.to_datetime(auth_data['auth_ts'], format='%Y-%m-%d')"
   ]
  },
  {
   "cell_type": "code",
   "execution_count": 10,
   "metadata": {},
   "outputs": [
    {
     "data": {
      "text/plain": [
       "auth_ts    datetime64[ns]\n",
       "uid                 int64\n",
       "dtype: object"
      ]
     },
     "execution_count": 10,
     "metadata": {},
     "output_type": "execute_result"
    }
   ],
   "source": [
    "auth_data.dtypes"
   ]
  },
  {
   "cell_type": "code",
   "execution_count": 11,
   "metadata": {},
   "outputs": [],
   "source": [
    "reg_data = get_data_from_Yandex_disk('https://disk.yandex.ru/d/V38QVEg9ioeAyg', sep=';')"
   ]
  },
  {
   "cell_type": "code",
   "execution_count": 12,
   "metadata": {},
   "outputs": [
    {
     "data": {
      "text/html": [
       "<div>\n",
       "<style scoped>\n",
       "    .dataframe tbody tr th:only-of-type {\n",
       "        vertical-align: middle;\n",
       "    }\n",
       "\n",
       "    .dataframe tbody tr th {\n",
       "        vertical-align: top;\n",
       "    }\n",
       "\n",
       "    .dataframe thead th {\n",
       "        text-align: right;\n",
       "    }\n",
       "</style>\n",
       "<table border=\"1\" class=\"dataframe\">\n",
       "  <thead>\n",
       "    <tr style=\"text-align: right;\">\n",
       "      <th></th>\n",
       "      <th>reg_ts</th>\n",
       "      <th>uid</th>\n",
       "    </tr>\n",
       "  </thead>\n",
       "  <tbody>\n",
       "    <tr>\n",
       "      <th>0</th>\n",
       "      <td>911382223</td>\n",
       "      <td>1</td>\n",
       "    </tr>\n",
       "    <tr>\n",
       "      <th>1</th>\n",
       "      <td>932683089</td>\n",
       "      <td>2</td>\n",
       "    </tr>\n",
       "    <tr>\n",
       "      <th>2</th>\n",
       "      <td>947802447</td>\n",
       "      <td>3</td>\n",
       "    </tr>\n",
       "    <tr>\n",
       "      <th>3</th>\n",
       "      <td>959523541</td>\n",
       "      <td>4</td>\n",
       "    </tr>\n",
       "    <tr>\n",
       "      <th>4</th>\n",
       "      <td>969103313</td>\n",
       "      <td>5</td>\n",
       "    </tr>\n",
       "    <tr>\n",
       "      <th>...</th>\n",
       "      <td>...</td>\n",
       "      <td>...</td>\n",
       "    </tr>\n",
       "    <tr>\n",
       "      <th>999995</th>\n",
       "      <td>1600874034</td>\n",
       "      <td>1110618</td>\n",
       "    </tr>\n",
       "    <tr>\n",
       "      <th>999996</th>\n",
       "      <td>1600874086</td>\n",
       "      <td>1110619</td>\n",
       "    </tr>\n",
       "    <tr>\n",
       "      <th>999997</th>\n",
       "      <td>1600874139</td>\n",
       "      <td>1110620</td>\n",
       "    </tr>\n",
       "    <tr>\n",
       "      <th>999998</th>\n",
       "      <td>1600874191</td>\n",
       "      <td>1110621</td>\n",
       "    </tr>\n",
       "    <tr>\n",
       "      <th>999999</th>\n",
       "      <td>1600874244</td>\n",
       "      <td>1110622</td>\n",
       "    </tr>\n",
       "  </tbody>\n",
       "</table>\n",
       "<p>1000000 rows × 2 columns</p>\n",
       "</div>"
      ],
      "text/plain": [
       "            reg_ts      uid\n",
       "0        911382223        1\n",
       "1        932683089        2\n",
       "2        947802447        3\n",
       "3        959523541        4\n",
       "4        969103313        5\n",
       "...            ...      ...\n",
       "999995  1600874034  1110618\n",
       "999996  1600874086  1110619\n",
       "999997  1600874139  1110620\n",
       "999998  1600874191  1110621\n",
       "999999  1600874244  1110622\n",
       "\n",
       "[1000000 rows x 2 columns]"
      ]
     },
     "execution_count": 12,
     "metadata": {},
     "output_type": "execute_result"
    }
   ],
   "source": [
    "reg_data"
   ]
  },
  {
   "cell_type": "code",
   "execution_count": 13,
   "metadata": {},
   "outputs": [],
   "source": [
    "reg_data['reg_ts'] = reg_data['reg_ts'].apply(lambda x: datetime.datetime.fromtimestamp(x).strftime('%Y-%m-%d'))"
   ]
  },
  {
   "cell_type": "code",
   "execution_count": 14,
   "metadata": {},
   "outputs": [],
   "source": [
    "reg_data['reg_ts'] = pd.to_datetime(reg_data['reg_ts'], format='%Y-%m-%d')"
   ]
  },
  {
   "cell_type": "code",
   "execution_count": 15,
   "metadata": {},
   "outputs": [
    {
     "data": {
      "text/plain": [
       "reg_ts    datetime64[ns]\n",
       "uid                int64\n",
       "dtype: object"
      ]
     },
     "execution_count": 15,
     "metadata": {},
     "output_type": "execute_result"
    }
   ],
   "source": [
    "reg_data.dtypes"
   ]
  },
  {
   "cell_type": "markdown",
   "metadata": {},
   "source": [
    "### Объединяем данные в одну таблицу и отбираем за последние 2 недели\n",
    "т.к. более ранние данные в контексте нашей задачи уже потеряли актуальность"
   ]
  },
  {
   "cell_type": "code",
   "execution_count": 16,
   "metadata": {},
   "outputs": [],
   "source": [
    "all_data = auth_data.merge(reg_data, how='left', on='uid', copy=True)"
   ]
  },
  {
   "cell_type": "code",
   "execution_count": 17,
   "metadata": {},
   "outputs": [],
   "source": [
    "data_for_analysis = all_data.query('reg_ts >= \"2020-09-10\"')"
   ]
  },
  {
   "cell_type": "markdown",
   "metadata": {},
   "source": [
    "### Когортный анализ / Визуализация"
   ]
  },
  {
   "cell_type": "code",
   "execution_count": 18,
   "metadata": {},
   "outputs": [],
   "source": [
    "def Cohort_analysis(df):\n",
    "    # отфильтруем массив так, чтобы визуально контролировать правильность дальнейших действий\n",
    "    df.sort_values(['uid', 'auth_ts'], inplace=True)\n",
    "    \n",
    "    # Сначала расчитаем добавим дату первой авторизации в df\n",
    "    first_auth = df.groupby('uid', as_index=False) \\\n",
    "                   .agg({'auth_ts': 'min'}) \\\n",
    "                   .rename(columns={'auth_ts': 'first_auth'})\n",
    "    data_for_analysis_merged = df.merge(first_auth, how='left', on='uid')\n",
    "    # Переименуем колонки для удобства\n",
    "    data_for_analysis_merged.rename(columns={'auth_ts': 'authorisation_date', 'reg_ts': 'regist_date'}, inplace=True)\n",
    "    \n",
    "    # Строим когорты. Когорты - игроки, сделавшие первую авторизацию в тот или иной день. \n",
    "    # Целевая метрика - количество авторизаций \n",
    "    cohorts = data_for_analysis_merged.groupby(['regist_date', 'authorisation_date'], as_index=False) \\\n",
    "                                      .agg({'uid': 'nunique', \n",
    "                                            'first_auth': 'count'}) \\\n",
    "                                      .rename(columns={'uid': 'total_users',\n",
    "                                                       'first_auth': 'total_first_auth'})\n",
    "    # Считаем период\n",
    "    cohorts['cohort_period'] = cohorts.authorisation_date - cohorts.regist_date\n",
    "    \n",
    "    # считаем retention\n",
    "    # сначала переиндексируем df и создадим ряд содержаший размер каждой когорты regist_date\n",
    "    cohorts.set_index(['cohort_period', 'regist_date'], inplace=True)\n",
    "    cohort_group_size = cohorts['total_users'].groupby(level=1).first()\n",
    "    \n",
    "    user_ret = cohorts['total_users'].unstack(0).divide(cohort_group_size, axis=0)\n",
    "    \n",
    "    # Блок визуелизации\n",
    "    sns.set(style='ticks')\n",
    "    plt.figure(figsize=(24, 16))\n",
    "    plt.title('Cohorts: User Retention')\n",
    "    plt.xlabel('Cohort Period')\n",
    "    plt.ylabel('Date of registration')\n",
    " \n",
    "    x = [1, 2, 3, 4, 5, 6, 7, 8, 9, 10, 11, 12, 13, 14]   # labels for x-axis\n",
    "    y = cohorts.reset_index().regist_date.dt.strftime('%m/%d/%Y').unique()   # labels for y-axis\n",
    "\n",
    "    sns.heatmap(user_ret, \n",
    "                mask=user_ret.isnull(), \n",
    "                annot=True, \n",
    "                fmt='.0%', \n",
    "                linewidths=.5,\n",
    "                cmap=\"YlGnBu\",\n",
    "                vmin=0,\n",
    "                vmax=0.2,\n",
    "                xticklabels=x,\n",
    "                yticklabels=y)\n",
    "          \n",
    "    return user_ret"
   ]
  },
  {
   "cell_type": "code",
   "execution_count": 19,
   "metadata": {},
   "outputs": [
    {
     "name": "stderr",
     "output_type": "stream",
     "text": [
      "C:\\Users\\Nata\\anaconda3\\lib\\site-packages\\pandas\\util\\_decorators.py:311: SettingWithCopyWarning: \n",
      "A value is trying to be set on a copy of a slice from a DataFrame\n",
      "\n",
      "See the caveats in the documentation: https://pandas.pydata.org/pandas-docs/stable/user_guide/indexing.html#returning-a-view-versus-a-copy\n",
      "  return func(*args, **kwargs)\n"
     ]
    },
    {
     "data": {
      "text/html": [
       "<div>\n",
       "<style scoped>\n",
       "    .dataframe tbody tr th:only-of-type {\n",
       "        vertical-align: middle;\n",
       "    }\n",
       "\n",
       "    .dataframe tbody tr th {\n",
       "        vertical-align: top;\n",
       "    }\n",
       "\n",
       "    .dataframe thead th {\n",
       "        text-align: right;\n",
       "    }\n",
       "</style>\n",
       "<table border=\"1\" class=\"dataframe\">\n",
       "  <thead>\n",
       "    <tr style=\"text-align: right;\">\n",
       "      <th>cohort_period</th>\n",
       "      <th>0 days</th>\n",
       "      <th>1 days</th>\n",
       "      <th>2 days</th>\n",
       "      <th>3 days</th>\n",
       "      <th>4 days</th>\n",
       "      <th>5 days</th>\n",
       "      <th>6 days</th>\n",
       "      <th>7 days</th>\n",
       "      <th>8 days</th>\n",
       "      <th>9 days</th>\n",
       "      <th>10 days</th>\n",
       "      <th>11 days</th>\n",
       "      <th>12 days</th>\n",
       "      <th>13 days</th>\n",
       "    </tr>\n",
       "    <tr>\n",
       "      <th>regist_date</th>\n",
       "      <th></th>\n",
       "      <th></th>\n",
       "      <th></th>\n",
       "      <th></th>\n",
       "      <th></th>\n",
       "      <th></th>\n",
       "      <th></th>\n",
       "      <th></th>\n",
       "      <th></th>\n",
       "      <th></th>\n",
       "      <th></th>\n",
       "      <th></th>\n",
       "      <th></th>\n",
       "      <th></th>\n",
       "    </tr>\n",
       "  </thead>\n",
       "  <tbody>\n",
       "    <tr>\n",
       "      <th>2020-09-10</th>\n",
       "      <td>1.0</td>\n",
       "      <td>0.013673</td>\n",
       "      <td>0.044127</td>\n",
       "      <td>0.051585</td>\n",
       "      <td>0.049720</td>\n",
       "      <td>0.064636</td>\n",
       "      <td>0.062772</td>\n",
       "      <td>0.062150</td>\n",
       "      <td>0.054071</td>\n",
       "      <td>0.041019</td>\n",
       "      <td>0.058421</td>\n",
       "      <td>0.050963</td>\n",
       "      <td>0.049099</td>\n",
       "      <td>0.039776</td>\n",
       "    </tr>\n",
       "    <tr>\n",
       "      <th>2020-09-11</th>\n",
       "      <td>1.0</td>\n",
       "      <td>0.013656</td>\n",
       "      <td>0.038485</td>\n",
       "      <td>0.039106</td>\n",
       "      <td>0.057728</td>\n",
       "      <td>0.063315</td>\n",
       "      <td>0.073867</td>\n",
       "      <td>0.057107</td>\n",
       "      <td>0.043451</td>\n",
       "      <td>0.044693</td>\n",
       "      <td>0.051521</td>\n",
       "      <td>0.063315</td>\n",
       "      <td>0.043451</td>\n",
       "      <td>NaN</td>\n",
       "    </tr>\n",
       "    <tr>\n",
       "      <th>2020-09-12</th>\n",
       "      <td>1.0</td>\n",
       "      <td>0.018587</td>\n",
       "      <td>0.042751</td>\n",
       "      <td>0.043990</td>\n",
       "      <td>0.039653</td>\n",
       "      <td>0.062577</td>\n",
       "      <td>0.069393</td>\n",
       "      <td>0.060099</td>\n",
       "      <td>0.050186</td>\n",
       "      <td>0.048327</td>\n",
       "      <td>0.048327</td>\n",
       "      <td>0.034696</td>\n",
       "      <td>NaN</td>\n",
       "      <td>NaN</td>\n",
       "    </tr>\n",
       "    <tr>\n",
       "      <th>2020-09-13</th>\n",
       "      <td>1.0</td>\n",
       "      <td>0.022277</td>\n",
       "      <td>0.043936</td>\n",
       "      <td>0.040223</td>\n",
       "      <td>0.052599</td>\n",
       "      <td>0.062500</td>\n",
       "      <td>0.068688</td>\n",
       "      <td>0.050124</td>\n",
       "      <td>0.052599</td>\n",
       "      <td>0.051980</td>\n",
       "      <td>0.052599</td>\n",
       "      <td>NaN</td>\n",
       "      <td>NaN</td>\n",
       "      <td>NaN</td>\n",
       "    </tr>\n",
       "    <tr>\n",
       "      <th>2020-09-14</th>\n",
       "      <td>1.0</td>\n",
       "      <td>0.017901</td>\n",
       "      <td>0.036420</td>\n",
       "      <td>0.037654</td>\n",
       "      <td>0.056173</td>\n",
       "      <td>0.059877</td>\n",
       "      <td>0.067284</td>\n",
       "      <td>0.066667</td>\n",
       "      <td>0.040123</td>\n",
       "      <td>0.037654</td>\n",
       "      <td>NaN</td>\n",
       "      <td>NaN</td>\n",
       "      <td>NaN</td>\n",
       "      <td>NaN</td>\n",
       "    </tr>\n",
       "    <tr>\n",
       "      <th>2020-09-15</th>\n",
       "      <td>1.0</td>\n",
       "      <td>0.023428</td>\n",
       "      <td>0.045006</td>\n",
       "      <td>0.040691</td>\n",
       "      <td>0.063502</td>\n",
       "      <td>0.054871</td>\n",
       "      <td>0.070284</td>\n",
       "      <td>0.056104</td>\n",
       "      <td>0.035142</td>\n",
       "      <td>NaN</td>\n",
       "      <td>NaN</td>\n",
       "      <td>NaN</td>\n",
       "      <td>NaN</td>\n",
       "      <td>NaN</td>\n",
       "    </tr>\n",
       "    <tr>\n",
       "      <th>2020-09-16</th>\n",
       "      <td>1.0</td>\n",
       "      <td>0.022167</td>\n",
       "      <td>0.043103</td>\n",
       "      <td>0.043719</td>\n",
       "      <td>0.052956</td>\n",
       "      <td>0.066502</td>\n",
       "      <td>0.078202</td>\n",
       "      <td>0.040640</td>\n",
       "      <td>NaN</td>\n",
       "      <td>NaN</td>\n",
       "      <td>NaN</td>\n",
       "      <td>NaN</td>\n",
       "      <td>NaN</td>\n",
       "      <td>NaN</td>\n",
       "    </tr>\n",
       "    <tr>\n",
       "      <th>2020-09-17</th>\n",
       "      <td>1.0</td>\n",
       "      <td>0.020270</td>\n",
       "      <td>0.038084</td>\n",
       "      <td>0.040541</td>\n",
       "      <td>0.058354</td>\n",
       "      <td>0.055283</td>\n",
       "      <td>0.060811</td>\n",
       "      <td>NaN</td>\n",
       "      <td>NaN</td>\n",
       "      <td>NaN</td>\n",
       "      <td>NaN</td>\n",
       "      <td>NaN</td>\n",
       "      <td>NaN</td>\n",
       "      <td>NaN</td>\n",
       "    </tr>\n",
       "    <tr>\n",
       "      <th>2020-09-18</th>\n",
       "      <td>1.0</td>\n",
       "      <td>0.021472</td>\n",
       "      <td>0.039877</td>\n",
       "      <td>0.044172</td>\n",
       "      <td>0.046012</td>\n",
       "      <td>0.054601</td>\n",
       "      <td>NaN</td>\n",
       "      <td>NaN</td>\n",
       "      <td>NaN</td>\n",
       "      <td>NaN</td>\n",
       "      <td>NaN</td>\n",
       "      <td>NaN</td>\n",
       "      <td>NaN</td>\n",
       "      <td>NaN</td>\n",
       "    </tr>\n",
       "    <tr>\n",
       "      <th>2020-09-19</th>\n",
       "      <td>1.0</td>\n",
       "      <td>0.020833</td>\n",
       "      <td>0.036765</td>\n",
       "      <td>0.044730</td>\n",
       "      <td>0.045343</td>\n",
       "      <td>NaN</td>\n",
       "      <td>NaN</td>\n",
       "      <td>NaN</td>\n",
       "      <td>NaN</td>\n",
       "      <td>NaN</td>\n",
       "      <td>NaN</td>\n",
       "      <td>NaN</td>\n",
       "      <td>NaN</td>\n",
       "      <td>NaN</td>\n",
       "    </tr>\n",
       "    <tr>\n",
       "      <th>2020-09-20</th>\n",
       "      <td>1.0</td>\n",
       "      <td>0.019560</td>\n",
       "      <td>0.046455</td>\n",
       "      <td>0.040342</td>\n",
       "      <td>NaN</td>\n",
       "      <td>NaN</td>\n",
       "      <td>NaN</td>\n",
       "      <td>NaN</td>\n",
       "      <td>NaN</td>\n",
       "      <td>NaN</td>\n",
       "      <td>NaN</td>\n",
       "      <td>NaN</td>\n",
       "      <td>NaN</td>\n",
       "      <td>NaN</td>\n",
       "    </tr>\n",
       "    <tr>\n",
       "      <th>2020-09-21</th>\n",
       "      <td>1.0</td>\n",
       "      <td>0.017705</td>\n",
       "      <td>0.035409</td>\n",
       "      <td>NaN</td>\n",
       "      <td>NaN</td>\n",
       "      <td>NaN</td>\n",
       "      <td>NaN</td>\n",
       "      <td>NaN</td>\n",
       "      <td>NaN</td>\n",
       "      <td>NaN</td>\n",
       "      <td>NaN</td>\n",
       "      <td>NaN</td>\n",
       "      <td>NaN</td>\n",
       "      <td>NaN</td>\n",
       "    </tr>\n",
       "    <tr>\n",
       "      <th>2020-09-22</th>\n",
       "      <td>1.0</td>\n",
       "      <td>0.016463</td>\n",
       "      <td>NaN</td>\n",
       "      <td>NaN</td>\n",
       "      <td>NaN</td>\n",
       "      <td>NaN</td>\n",
       "      <td>NaN</td>\n",
       "      <td>NaN</td>\n",
       "      <td>NaN</td>\n",
       "      <td>NaN</td>\n",
       "      <td>NaN</td>\n",
       "      <td>NaN</td>\n",
       "      <td>NaN</td>\n",
       "      <td>NaN</td>\n",
       "    </tr>\n",
       "    <tr>\n",
       "      <th>2020-09-23</th>\n",
       "      <td>1.0</td>\n",
       "      <td>NaN</td>\n",
       "      <td>NaN</td>\n",
       "      <td>NaN</td>\n",
       "      <td>NaN</td>\n",
       "      <td>NaN</td>\n",
       "      <td>NaN</td>\n",
       "      <td>NaN</td>\n",
       "      <td>NaN</td>\n",
       "      <td>NaN</td>\n",
       "      <td>NaN</td>\n",
       "      <td>NaN</td>\n",
       "      <td>NaN</td>\n",
       "      <td>NaN</td>\n",
       "    </tr>\n",
       "  </tbody>\n",
       "</table>\n",
       "</div>"
      ],
      "text/plain": [
       "cohort_period  0 days    1 days    2 days    3 days    4 days    5 days  \\\n",
       "regist_date                                                               \n",
       "2020-09-10        1.0  0.013673  0.044127  0.051585  0.049720  0.064636   \n",
       "2020-09-11        1.0  0.013656  0.038485  0.039106  0.057728  0.063315   \n",
       "2020-09-12        1.0  0.018587  0.042751  0.043990  0.039653  0.062577   \n",
       "2020-09-13        1.0  0.022277  0.043936  0.040223  0.052599  0.062500   \n",
       "2020-09-14        1.0  0.017901  0.036420  0.037654  0.056173  0.059877   \n",
       "2020-09-15        1.0  0.023428  0.045006  0.040691  0.063502  0.054871   \n",
       "2020-09-16        1.0  0.022167  0.043103  0.043719  0.052956  0.066502   \n",
       "2020-09-17        1.0  0.020270  0.038084  0.040541  0.058354  0.055283   \n",
       "2020-09-18        1.0  0.021472  0.039877  0.044172  0.046012  0.054601   \n",
       "2020-09-19        1.0  0.020833  0.036765  0.044730  0.045343       NaN   \n",
       "2020-09-20        1.0  0.019560  0.046455  0.040342       NaN       NaN   \n",
       "2020-09-21        1.0  0.017705  0.035409       NaN       NaN       NaN   \n",
       "2020-09-22        1.0  0.016463       NaN       NaN       NaN       NaN   \n",
       "2020-09-23        1.0       NaN       NaN       NaN       NaN       NaN   \n",
       "\n",
       "cohort_period    6 days    7 days    8 days    9 days   10 days   11 days  \\\n",
       "regist_date                                                                 \n",
       "2020-09-10     0.062772  0.062150  0.054071  0.041019  0.058421  0.050963   \n",
       "2020-09-11     0.073867  0.057107  0.043451  0.044693  0.051521  0.063315   \n",
       "2020-09-12     0.069393  0.060099  0.050186  0.048327  0.048327  0.034696   \n",
       "2020-09-13     0.068688  0.050124  0.052599  0.051980  0.052599       NaN   \n",
       "2020-09-14     0.067284  0.066667  0.040123  0.037654       NaN       NaN   \n",
       "2020-09-15     0.070284  0.056104  0.035142       NaN       NaN       NaN   \n",
       "2020-09-16     0.078202  0.040640       NaN       NaN       NaN       NaN   \n",
       "2020-09-17     0.060811       NaN       NaN       NaN       NaN       NaN   \n",
       "2020-09-18          NaN       NaN       NaN       NaN       NaN       NaN   \n",
       "2020-09-19          NaN       NaN       NaN       NaN       NaN       NaN   \n",
       "2020-09-20          NaN       NaN       NaN       NaN       NaN       NaN   \n",
       "2020-09-21          NaN       NaN       NaN       NaN       NaN       NaN   \n",
       "2020-09-22          NaN       NaN       NaN       NaN       NaN       NaN   \n",
       "2020-09-23          NaN       NaN       NaN       NaN       NaN       NaN   \n",
       "\n",
       "cohort_period   12 days   13 days  \n",
       "regist_date                        \n",
       "2020-09-10     0.049099  0.039776  \n",
       "2020-09-11     0.043451       NaN  \n",
       "2020-09-12          NaN       NaN  \n",
       "2020-09-13          NaN       NaN  \n",
       "2020-09-14          NaN       NaN  \n",
       "2020-09-15          NaN       NaN  \n",
       "2020-09-16          NaN       NaN  \n",
       "2020-09-17          NaN       NaN  \n",
       "2020-09-18          NaN       NaN  \n",
       "2020-09-19          NaN       NaN  \n",
       "2020-09-20          NaN       NaN  \n",
       "2020-09-21          NaN       NaN  \n",
       "2020-09-22          NaN       NaN  \n",
       "2020-09-23          NaN       NaN  "
      ]
     },
     "execution_count": 19,
     "metadata": {},
     "output_type": "execute_result"
    },
    {
     "data": {
      "image/png": "[encoded data removed]",
      "text/plain": [
       "<Figure size 1728x1152 with 2 Axes>"
      ]
     },
     "metadata": {},
     "output_type": "display_data"
    }
   ],
   "source": [
    "Cohort_analysis(data_for_analysis)"
   ]
  },
  {
   "cell_type": "code",
   "execution_count": null,
   "metadata": {},
   "outputs": [],
   "source": []
  },
  {
   "cell_type": "code",
   "execution_count": null,
   "metadata": {},
   "outputs": [],
   "source": []
  },
  {
   "cell_type": "markdown",
   "metadata": {},
   "source": [
    "## Задание 2"
   ]
  },
  {
   "cell_type": "markdown",
   "metadata": {},
   "source": [
    "### Текст задания:\n",
    "В игре Plants & Gardens каждый месяц проводятся тематические события, ограниченные по времени. В них игроки могут получить уникальные предметы для сада и персонажей, дополнительные монеты или бонусы. Для получения награды требуется пройти ряд уровней за определенное время. С помощью каких метрик можно оценить результаты последнего прошедшего события?\n",
    "\n",
    "Предположим, в другом событии мы усложнили механику событий так, что при каждой неудачной попытке выполнения уровня игрок будет откатываться на несколько уровней назад. Изменится ли набор метрик оценки результата? Если да, то как?"
   ]
  },
  {
   "cell_type": "markdown",
   "metadata": {},
   "source": [
    "1. Эффективность проведения тематического события можно оценить исходя из следующих метрик:\n",
    "   - ASD (Average Session Duration). Эта метрика покажет нам, насколько изменилось среднее время, проведенное в игре до проведения события и после. Если событие было интересным, то ASD увеличится;\n",
    "   - ATV (Average Transaction Value) - средний чек. Для прохождение доролнительных событий в игре по-прежнему будут необходимы жизни или иные ограниченные ресурсы, которые можно приобрести. Поэтому средний чек может вырасти\n",
    "   - Stickness rate (Залипательность игры). Рассчитывается как DAU/MAU. Таким образом, мы сможем узнать, насколько тематическое событие способствует сохранению аудитории.\n",
    "   - CR в покупку. По тем же присинам, которые могут привести к увеличению ATV, может вырасти и CR. Новое событие может подтолкнуть новых пользователей к первой покупке. А постоянных пользователей к повторой покупке.\n",
    "   - Retention rate. \n",
    "   - Churn rate. Помимо отслеживания \"позитивных\" метрик, нам необходимо убедиться, что рост финансовых метрик не происходит на фоне увеличения процента \"выгоревших\" пользователей. Это может происходить, если задания слишком сложные и теряется мотивация в их прохождении, что в целом влечет за собой снижение лояльности игре.\n",
    "\n",
    "2. В случае усложнения механики, особенно важно смотреть на Churn rate и ASD на равне с финансовыми метриками, т.к. усложнение заданий может снизить желание пользователя играть. Но набор метрик, на мой взгляд, остается, в целом, тем же. "
   ]
  },
  {
   "cell_type": "code",
   "execution_count": null,
   "metadata": {},
   "outputs": [],
   "source": []
  },
  {
   "cell_type": "code",
   "execution_count": null,
   "metadata": {},
   "outputs": [],
   "source": []
  }
 ],
 "metadata": {
  "kernelspec": {
   "display_name": "Python 3 (ipykernel)",
   "language": "python",
   "name": "python3"
  },
  "language_info": {
   "codemirror_mode": {
    "name": "ipython",
    "version": 3
   },
   "file_extension": ".py",
   "mimetype": "text/x-python",
   "name": "python",
   "nbconvert_exporter": "python",
   "pygments_lexer": "ipython3",
   "version": "3.9.7"
  }
 },
 "nbformat": 4,
 "nbformat_minor": 4
}
