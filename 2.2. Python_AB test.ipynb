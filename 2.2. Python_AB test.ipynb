{
 "cells": [
  {
   "cell_type": "markdown",
   "id": "08bd034d",
   "metadata": {},
   "source": [
    "## Задание"
   ]
  },
  {
   "cell_type": "markdown",
   "id": "dd5d5da8",
   "metadata": {},
   "source": [
    "### Текст задания:\n",
    "Одной из основных задач аналитика в нашей команде является корректное проведение экспериментов. Для этого мы применяем метод A/B–тестирования. В ходе тестирования одной гипотезы целевой группе была предложена новая механика оплаты услуг на сайте, у контрольной группы оставалась базовая механика. В качестве задания Вам необходимо проанализировать итоги эксперимента и сделать вывод, стоит ли запускать новую механику оплаты на всех пользователей."
   ]
  },
  {
   "cell_type": "markdown",
   "id": "2733a77f",
   "metadata": {},
   "source": [
    "В качестве входных данных Вы имеете 4 csv-файла:\n",
    "\n",
    "* groups.csv - файл с информацией о принадлежности пользователя к контрольной или экспериментальной группе (А – контроль, B – целевая группа) \n",
    "* groups_add.csv - дополнительный файл с пользователями, который вам прислали спустя 2 дня после передачи данных\n",
    "* active_studs.csv - файл с информацией о пользователях, которые зашли на платформу в дни проведения эксперимента. \n",
    "* checks.csv - файл с информацией об оплатах пользователей в дни проведения эксперимента. "
   ]
  },
  {
   "cell_type": "markdown",
   "id": "fa929228",
   "metadata": {},
   "source": [
    "Предлагаем Вам ответить на следующие вопросы:\n",
    "\n",
    "* На какие метрики Вы смотрите в ходе анализа и почему?\n",
    "* Имеются ли различия в показателях и с чем они могут быть связаны?\n",
    "* Являются ли эти различия статистически значимыми?\n",
    "* Стоит ли запускать новую механику на всех пользователей?\n",
    "Данный список вопросов не является обязательным, и Вы можете при своём ответе опираться на собственный план."
   ]
  },
  {
   "cell_type": "code",
   "execution_count": 1,
   "id": "871579c4",
   "metadata": {},
   "outputs": [],
   "source": [
    "import pandas as pd\n",
    "import numpy as np\n",
    "import pingouin as pg\n",
    "\n",
    "import matplotlib.pyplot as plt\n",
    "import seaborn as sns\n",
    "%matplotlib inline\n",
    "\n",
    "import datetime\n",
    "\n",
    "import requests\n",
    "from urllib.parse import urlencode\n",
    "\n",
    "from scipy.stats import norm, mannwhitneyu, shapiro\n",
    "from scipy.stats import chi2_contingency\n",
    "from scipy.stats import levene\n",
    "from tqdm.auto import tqdm\n",
    "from scipy.stats import ttest_ind"
   ]
  },
  {
   "cell_type": "code",
   "execution_count": 2,
   "id": "c6c62c95",
   "metadata": {},
   "outputs": [],
   "source": [
    "def get_data_from_Yandex_disk(url, sep):\n",
    "    \"\"\" \n",
    "    Возвращает df из файла с .csv-расширением, хранящегося на Яндекс-диске,\n",
    "    url - путь на Яндекс-диск,\n",
    "    sep - разделитель в файле csv\n",
    "    \"\"\"\n",
    "    base_url = 'https://cloud-api.yandex.net/v1/disk/public/resources/download?'\n",
    "       \n",
    "    # Получаем загрузочную ссылку\n",
    "    final_url = base_url + urlencode(dict(public_key=url))\n",
    "    response = requests.get(final_url)\n",
    "    download_url = response.json()['href']\n",
    "    \n",
    "    # Загружаем файл и сохраняем его\n",
    "    download_response = requests.get(download_url)\n",
    "    df = pd.read_csv(download_url, sep=sep)\n",
    "    return df"
   ]
  },
  {
   "cell_type": "code",
   "execution_count": 3,
   "id": "4192b485",
   "metadata": {},
   "outputs": [],
   "source": [
    "# Загружаем файлы при помощи созданной функции\n",
    "groups = get_data_from_Yandex_disk(\"https://disk.yandex.ru/d/jyT8UrFH3OtIHQ\", sep=';')\n",
    "group_add = get_data_from_Yandex_disk(\"https://disk.yandex.ru/d/hH_80polNPR4Ag\", sep=',')\n",
    "active_studs = get_data_from_Yandex_disk(\"https://disk.yandex.ru/d/mV4V4shrYbZUOA\", sep=';')\n",
    "checks = get_data_from_Yandex_disk(\"https://disk.yandex.ru/d/CXNfyVyanGuFbA\", sep=';')"
   ]
  },
  {
   "cell_type": "code",
   "execution_count": 4,
   "id": "0ee07db4",
   "metadata": {},
   "outputs": [],
   "source": [
    "# присоединим доп.информацию \n",
    "groups = groups.append(group_add, ignore_index=True)"
   ]
  },
  {
   "cell_type": "markdown",
   "id": "7eba8f49",
   "metadata": {},
   "source": [
    "Цель проведения A/B-теста - улучшение целевых метрик, при сохранении необходимого уровня остальных метрик. \n",
    "Для оценки эффективности той или иной акции используется 2 группы метрик: количественные и доходные.\n",
    "\n",
    "**Под количественными метриками** мы в данном случае можем понимать долю платящих клиентов.\n",
    "\n",
    "**Когда речь идет о метриках, связанных с монетизацией,** обычно имеют в виду следующие: Общий доход (Revenue) и средние величины: ARPU, ARPPU, средний или медианный чеки.\n",
    "\n",
    "Для начала проведем первичную оценку данных, проверим их на наличие отсутствующих значений и аномалий."
   ]
  },
  {
   "cell_type": "code",
   "execution_count": 5,
   "id": "65be7aa8",
   "metadata": {},
   "outputs": [
    {
     "data": {
      "text/html": [
       "<div>\n",
       "<style scoped>\n",
       "    .dataframe tbody tr th:only-of-type {\n",
       "        vertical-align: middle;\n",
       "    }\n",
       "\n",
       "    .dataframe tbody tr th {\n",
       "        vertical-align: top;\n",
       "    }\n",
       "\n",
       "    .dataframe thead th {\n",
       "        text-align: right;\n",
       "    }\n",
       "</style>\n",
       "<table border=\"1\" class=\"dataframe\">\n",
       "  <thead>\n",
       "    <tr style=\"text-align: right;\">\n",
       "      <th></th>\n",
       "      <th>id</th>\n",
       "      <th>grp</th>\n",
       "    </tr>\n",
       "  </thead>\n",
       "  <tbody>\n",
       "    <tr>\n",
       "      <th>0</th>\n",
       "      <td>1489</td>\n",
       "      <td>B</td>\n",
       "    </tr>\n",
       "    <tr>\n",
       "      <th>1</th>\n",
       "      <td>1627</td>\n",
       "      <td>A</td>\n",
       "    </tr>\n",
       "    <tr>\n",
       "      <th>2</th>\n",
       "      <td>1768</td>\n",
       "      <td>B</td>\n",
       "    </tr>\n",
       "    <tr>\n",
       "      <th>3</th>\n",
       "      <td>1783</td>\n",
       "      <td>B</td>\n",
       "    </tr>\n",
       "    <tr>\n",
       "      <th>4</th>\n",
       "      <td>1794</td>\n",
       "      <td>A</td>\n",
       "    </tr>\n",
       "  </tbody>\n",
       "</table>\n",
       "</div>"
      ],
      "text/plain": [
       "     id grp\n",
       "0  1489   B\n",
       "1  1627   A\n",
       "2  1768   B\n",
       "3  1783   B\n",
       "4  1794   A"
      ]
     },
     "execution_count": 5,
     "metadata": {},
     "output_type": "execute_result"
    }
   ],
   "source": [
    "groups.head()"
   ]
  },
  {
   "cell_type": "code",
   "execution_count": 6,
   "id": "b3c1dc33",
   "metadata": {},
   "outputs": [
    {
     "data": {
      "text/plain": [
       "(74576, 2)"
      ]
     },
     "execution_count": 6,
     "metadata": {},
     "output_type": "execute_result"
    }
   ],
   "source": [
    "groups.shape"
   ]
  },
  {
   "cell_type": "code",
   "execution_count": 7,
   "id": "683038f0",
   "metadata": {},
   "outputs": [
    {
     "data": {
      "text/html": [
       "<div>\n",
       "<style scoped>\n",
       "    .dataframe tbody tr th:only-of-type {\n",
       "        vertical-align: middle;\n",
       "    }\n",
       "\n",
       "    .dataframe tbody tr th {\n",
       "        vertical-align: top;\n",
       "    }\n",
       "\n",
       "    .dataframe thead th {\n",
       "        text-align: right;\n",
       "    }\n",
       "</style>\n",
       "<table border=\"1\" class=\"dataframe\">\n",
       "  <thead>\n",
       "    <tr style=\"text-align: right;\">\n",
       "      <th></th>\n",
       "      <th>id</th>\n",
       "    </tr>\n",
       "  </thead>\n",
       "  <tbody>\n",
       "    <tr>\n",
       "      <th>count</th>\n",
       "      <td>7.457600e+04</td>\n",
       "    </tr>\n",
       "    <tr>\n",
       "      <th>mean</th>\n",
       "      <td>2.165617e+06</td>\n",
       "    </tr>\n",
       "    <tr>\n",
       "      <th>std</th>\n",
       "      <td>2.786959e+06</td>\n",
       "    </tr>\n",
       "    <tr>\n",
       "      <th>min</th>\n",
       "      <td>1.489000e+03</td>\n",
       "    </tr>\n",
       "    <tr>\n",
       "      <th>25%</th>\n",
       "      <td>9.197188e+05</td>\n",
       "    </tr>\n",
       "    <tr>\n",
       "      <th>50%</th>\n",
       "      <td>1.669752e+06</td>\n",
       "    </tr>\n",
       "    <tr>\n",
       "      <th>75%</th>\n",
       "      <td>3.328121e+06</td>\n",
       "    </tr>\n",
       "    <tr>\n",
       "      <th>max</th>\n",
       "      <td>2.010677e+08</td>\n",
       "    </tr>\n",
       "  </tbody>\n",
       "</table>\n",
       "</div>"
      ],
      "text/plain": [
       "                 id\n",
       "count  7.457600e+04\n",
       "mean   2.165617e+06\n",
       "std    2.786959e+06\n",
       "min    1.489000e+03\n",
       "25%    9.197188e+05\n",
       "50%    1.669752e+06\n",
       "75%    3.328121e+06\n",
       "max    2.010677e+08"
      ]
     },
     "execution_count": 7,
     "metadata": {},
     "output_type": "execute_result"
    }
   ],
   "source": [
    "groups.describe()"
   ]
  },
  {
   "cell_type": "code",
   "execution_count": 8,
   "id": "1d628f62",
   "metadata": {},
   "outputs": [
    {
     "data": {
      "text/plain": [
       "id      int64\n",
       "grp    object\n",
       "dtype: object"
      ]
     },
     "execution_count": 8,
     "metadata": {},
     "output_type": "execute_result"
    }
   ],
   "source": [
    "groups.dtypes"
   ]
  },
  {
   "cell_type": "code",
   "execution_count": 9,
   "id": "8302ca82",
   "metadata": {},
   "outputs": [
    {
     "data": {
      "text/plain": [
       "id     0\n",
       "grp    0\n",
       "dtype: int64"
      ]
     },
     "execution_count": 9,
     "metadata": {},
     "output_type": "execute_result"
    }
   ],
   "source": [
    "groups.isna().sum()"
   ]
  },
  {
   "cell_type": "code",
   "execution_count": 10,
   "id": "3b06edf1",
   "metadata": {},
   "outputs": [
    {
     "data": {
      "text/plain": [
       "id     74576\n",
       "grp        2\n",
       "dtype: int64"
      ]
     },
     "execution_count": 10,
     "metadata": {},
     "output_type": "execute_result"
    }
   ],
   "source": [
    "groups.nunique()"
   ]
  },
  {
   "cell_type": "code",
   "execution_count": 11,
   "id": "28525326",
   "metadata": {
    "scrolled": true
   },
   "outputs": [
    {
     "data": {
      "text/plain": [
       "grp\n",
       "B    59883\n",
       "A    14693\n",
       "dtype: int64"
      ]
     },
     "execution_count": 11,
     "metadata": {},
     "output_type": "execute_result"
    }
   ],
   "source": [
    "groups.value_counts('grp')"
   ]
  },
  {
   "cell_type": "code",
   "execution_count": 12,
   "id": "763ce17a",
   "metadata": {},
   "outputs": [
    {
     "data": {
      "text/html": [
       "<div>\n",
       "<style scoped>\n",
       "    .dataframe tbody tr th:only-of-type {\n",
       "        vertical-align: middle;\n",
       "    }\n",
       "\n",
       "    .dataframe tbody tr th {\n",
       "        vertical-align: top;\n",
       "    }\n",
       "\n",
       "    .dataframe thead th {\n",
       "        text-align: right;\n",
       "    }\n",
       "</style>\n",
       "<table border=\"1\" class=\"dataframe\">\n",
       "  <thead>\n",
       "    <tr style=\"text-align: right;\">\n",
       "      <th></th>\n",
       "      <th>student_id</th>\n",
       "    </tr>\n",
       "  </thead>\n",
       "  <tbody>\n",
       "    <tr>\n",
       "      <th>0</th>\n",
       "      <td>581585</td>\n",
       "    </tr>\n",
       "    <tr>\n",
       "      <th>1</th>\n",
       "      <td>5723133</td>\n",
       "    </tr>\n",
       "    <tr>\n",
       "      <th>2</th>\n",
       "      <td>3276743</td>\n",
       "    </tr>\n",
       "    <tr>\n",
       "      <th>3</th>\n",
       "      <td>4238589</td>\n",
       "    </tr>\n",
       "    <tr>\n",
       "      <th>4</th>\n",
       "      <td>4475369</td>\n",
       "    </tr>\n",
       "  </tbody>\n",
       "</table>\n",
       "</div>"
      ],
      "text/plain": [
       "   student_id\n",
       "0      581585\n",
       "1     5723133\n",
       "2     3276743\n",
       "3     4238589\n",
       "4     4475369"
      ]
     },
     "execution_count": 12,
     "metadata": {},
     "output_type": "execute_result"
    }
   ],
   "source": [
    "active_studs.head()"
   ]
  },
  {
   "cell_type": "code",
   "execution_count": 13,
   "id": "fba8e718",
   "metadata": {},
   "outputs": [
    {
     "data": {
      "text/plain": [
       "(8341, 1)"
      ]
     },
     "execution_count": 13,
     "metadata": {},
     "output_type": "execute_result"
    }
   ],
   "source": [
    "active_studs.shape"
   ]
  },
  {
   "cell_type": "code",
   "execution_count": 14,
   "id": "96fa7ad4",
   "metadata": {},
   "outputs": [
    {
     "data": {
      "text/plain": [
       "student_id    0\n",
       "dtype: int64"
      ]
     },
     "execution_count": 14,
     "metadata": {},
     "output_type": "execute_result"
    }
   ],
   "source": [
    "active_studs.isna().sum()"
   ]
  },
  {
   "cell_type": "code",
   "execution_count": 15,
   "id": "177d2ef2",
   "metadata": {},
   "outputs": [
    {
     "data": {
      "text/html": [
       "<div>\n",
       "<style scoped>\n",
       "    .dataframe tbody tr th:only-of-type {\n",
       "        vertical-align: middle;\n",
       "    }\n",
       "\n",
       "    .dataframe tbody tr th {\n",
       "        vertical-align: top;\n",
       "    }\n",
       "\n",
       "    .dataframe thead th {\n",
       "        text-align: right;\n",
       "    }\n",
       "</style>\n",
       "<table border=\"1\" class=\"dataframe\">\n",
       "  <thead>\n",
       "    <tr style=\"text-align: right;\">\n",
       "      <th></th>\n",
       "      <th>student_id</th>\n",
       "      <th>rev</th>\n",
       "    </tr>\n",
       "  </thead>\n",
       "  <tbody>\n",
       "    <tr>\n",
       "      <th>0</th>\n",
       "      <td>1627</td>\n",
       "      <td>990.0</td>\n",
       "    </tr>\n",
       "    <tr>\n",
       "      <th>1</th>\n",
       "      <td>3185</td>\n",
       "      <td>690.0</td>\n",
       "    </tr>\n",
       "    <tr>\n",
       "      <th>2</th>\n",
       "      <td>25973</td>\n",
       "      <td>690.0</td>\n",
       "    </tr>\n",
       "    <tr>\n",
       "      <th>3</th>\n",
       "      <td>26280</td>\n",
       "      <td>690.0</td>\n",
       "    </tr>\n",
       "    <tr>\n",
       "      <th>4</th>\n",
       "      <td>100300</td>\n",
       "      <td>990.0</td>\n",
       "    </tr>\n",
       "  </tbody>\n",
       "</table>\n",
       "</div>"
      ],
      "text/plain": [
       "   student_id    rev\n",
       "0        1627  990.0\n",
       "1        3185  690.0\n",
       "2       25973  690.0\n",
       "3       26280  690.0\n",
       "4      100300  990.0"
      ]
     },
     "execution_count": 15,
     "metadata": {},
     "output_type": "execute_result"
    }
   ],
   "source": [
    "checks.head()"
   ]
  },
  {
   "cell_type": "code",
   "execution_count": 16,
   "id": "702efcea",
   "metadata": {},
   "outputs": [
    {
     "data": {
      "text/plain": [
       "count     541.000000\n",
       "mean     1059.752317\n",
       "std       762.712359\n",
       "min       199.000000\n",
       "25%       290.000000\n",
       "50%       840.000000\n",
       "75%      1900.000000\n",
       "max      4650.000000\n",
       "Name: rev, dtype: float64"
      ]
     },
     "execution_count": 16,
     "metadata": {},
     "output_type": "execute_result"
    }
   ],
   "source": [
    "checks['rev'].describe()"
   ]
  },
  {
   "cell_type": "code",
   "execution_count": 17,
   "id": "2ac8f9f3",
   "metadata": {},
   "outputs": [
    {
     "data": {
      "text/plain": [
       "student_id      int64\n",
       "rev           float64\n",
       "dtype: object"
      ]
     },
     "execution_count": 17,
     "metadata": {},
     "output_type": "execute_result"
    }
   ],
   "source": [
    "checks.dtypes"
   ]
  },
  {
   "cell_type": "code",
   "execution_count": 18,
   "id": "8473f9ca",
   "metadata": {},
   "outputs": [
    {
     "data": {
      "text/plain": [
       "student_id    0\n",
       "rev           0\n",
       "dtype: int64"
      ]
     },
     "execution_count": 18,
     "metadata": {},
     "output_type": "execute_result"
    }
   ],
   "source": [
    "checks.isna().sum()"
   ]
  },
  {
   "cell_type": "code",
   "execution_count": 19,
   "id": "d3804ce6",
   "metadata": {},
   "outputs": [
    {
     "data": {
      "text/plain": [
       "student_id    541\n",
       "rev            39\n",
       "dtype: int64"
      ]
     },
     "execution_count": 19,
     "metadata": {},
     "output_type": "execute_result"
    }
   ],
   "source": [
    "checks.nunique()"
   ]
  },
  {
   "cell_type": "code",
   "execution_count": 20,
   "id": "3399af0a",
   "metadata": {},
   "outputs": [],
   "source": [
    "# Присоединим к данным о группах эксперимента данные об id пользователей, которые зашли на платформу, а также покупателей\n",
    "main_df = pd.merge(left=groups, right=active_studs, how='left', left_on='id', right_on='student_id', validate='one_to_many')\n",
    "main_df = pd.merge(left=main_df, right=checks, how='left', left_on='id', right_on='student_id', validate='one_to_many')"
   ]
  },
  {
   "cell_type": "code",
   "execution_count": 21,
   "id": "b4b798c6",
   "metadata": {},
   "outputs": [
    {
     "data": {
      "text/html": [
       "<div>\n",
       "<style scoped>\n",
       "    .dataframe tbody tr th:only-of-type {\n",
       "        vertical-align: middle;\n",
       "    }\n",
       "\n",
       "    .dataframe tbody tr th {\n",
       "        vertical-align: top;\n",
       "    }\n",
       "\n",
       "    .dataframe thead th {\n",
       "        text-align: right;\n",
       "    }\n",
       "</style>\n",
       "<table border=\"1\" class=\"dataframe\">\n",
       "  <thead>\n",
       "    <tr style=\"text-align: right;\">\n",
       "      <th></th>\n",
       "      <th>id</th>\n",
       "      <th>grp</th>\n",
       "      <th>student_id_x</th>\n",
       "      <th>student_id_y</th>\n",
       "      <th>rev</th>\n",
       "    </tr>\n",
       "  </thead>\n",
       "  <tbody>\n",
       "    <tr>\n",
       "      <th>0</th>\n",
       "      <td>1489</td>\n",
       "      <td>B</td>\n",
       "      <td>NaN</td>\n",
       "      <td>NaN</td>\n",
       "      <td>NaN</td>\n",
       "    </tr>\n",
       "    <tr>\n",
       "      <th>1</th>\n",
       "      <td>1627</td>\n",
       "      <td>A</td>\n",
       "      <td>1627.0</td>\n",
       "      <td>1627.0</td>\n",
       "      <td>990.0</td>\n",
       "    </tr>\n",
       "    <tr>\n",
       "      <th>2</th>\n",
       "      <td>1768</td>\n",
       "      <td>B</td>\n",
       "      <td>NaN</td>\n",
       "      <td>NaN</td>\n",
       "      <td>NaN</td>\n",
       "    </tr>\n",
       "    <tr>\n",
       "      <th>3</th>\n",
       "      <td>1783</td>\n",
       "      <td>B</td>\n",
       "      <td>NaN</td>\n",
       "      <td>NaN</td>\n",
       "      <td>NaN</td>\n",
       "    </tr>\n",
       "    <tr>\n",
       "      <th>4</th>\n",
       "      <td>1794</td>\n",
       "      <td>A</td>\n",
       "      <td>NaN</td>\n",
       "      <td>NaN</td>\n",
       "      <td>NaN</td>\n",
       "    </tr>\n",
       "  </tbody>\n",
       "</table>\n",
       "</div>"
      ],
      "text/plain": [
       "     id grp  student_id_x  student_id_y    rev\n",
       "0  1489   B           NaN           NaN    NaN\n",
       "1  1627   A        1627.0        1627.0  990.0\n",
       "2  1768   B           NaN           NaN    NaN\n",
       "3  1783   B           NaN           NaN    NaN\n",
       "4  1794   A           NaN           NaN    NaN"
      ]
     },
     "execution_count": 21,
     "metadata": {},
     "output_type": "execute_result"
    }
   ],
   "source": [
    "main_df.head()"
   ]
  },
  {
   "cell_type": "code",
   "execution_count": 22,
   "id": "e39db74d",
   "metadata": {},
   "outputs": [
    {
     "data": {
      "text/plain": [
       "id                int64\n",
       "grp              object\n",
       "student_id_x    float64\n",
       "student_id_y    float64\n",
       "rev             float64\n",
       "dtype: object"
      ]
     },
     "execution_count": 22,
     "metadata": {},
     "output_type": "execute_result"
    }
   ],
   "source": [
    "main_df.dtypes"
   ]
  },
  {
   "cell_type": "code",
   "execution_count": 23,
   "id": "9e0f8318",
   "metadata": {},
   "outputs": [
    {
     "data": {
      "text/plain": [
       "True     66235\n",
       "False     8341\n",
       "Name: student_id_x, dtype: int64"
      ]
     },
     "execution_count": 23,
     "metadata": {},
     "output_type": "execute_result"
    }
   ],
   "source": [
    "# Проверим, что все корректно: размер соотносится с active_studs.shape\n",
    "main_df.student_id_x.isna().value_counts()"
   ]
  },
  {
   "cell_type": "code",
   "execution_count": 24,
   "id": "9571f33a",
   "metadata": {},
   "outputs": [
    {
     "data": {
      "text/plain": [
       "True     74035\n",
       "False      541\n",
       "Name: student_id_y, dtype: int64"
      ]
     },
     "execution_count": 24,
     "metadata": {},
     "output_type": "execute_result"
    }
   ],
   "source": [
    "# Проверим, что все корректно: размер соотносится с checks.shape\n",
    "main_df.student_id_y.isna().value_counts()"
   ]
  },
  {
   "cell_type": "code",
   "execution_count": 25,
   "id": "9444fbcd",
   "metadata": {},
   "outputs": [
    {
     "data": {
      "text/html": [
       "<div>\n",
       "<style scoped>\n",
       "    .dataframe tbody tr th:only-of-type {\n",
       "        vertical-align: middle;\n",
       "    }\n",
       "\n",
       "    .dataframe tbody tr th {\n",
       "        vertical-align: top;\n",
       "    }\n",
       "\n",
       "    .dataframe thead th {\n",
       "        text-align: right;\n",
       "    }\n",
       "</style>\n",
       "<table border=\"1\" class=\"dataframe\">\n",
       "  <thead>\n",
       "    <tr style=\"text-align: right;\">\n",
       "      <th></th>\n",
       "      <th>id</th>\n",
       "      <th>grp</th>\n",
       "      <th>student_id_x</th>\n",
       "      <th>student_id_y</th>\n",
       "      <th>rev</th>\n",
       "    </tr>\n",
       "  </thead>\n",
       "  <tbody>\n",
       "  </tbody>\n",
       "</table>\n",
       "</div>"
      ],
      "text/plain": [
       "Empty DataFrame\n",
       "Columns: [id, grp, student_id_x, student_id_y, rev]\n",
       "Index: []"
      ]
     },
     "execution_count": 25,
     "metadata": {},
     "output_type": "execute_result"
    }
   ],
   "source": [
    "# Проверим, что все корректно: отсутствуют student_id_y без указания полученной выручки\n",
    "main_df.query('student_id_y <= 0 and rev < 0')"
   ]
  },
  {
   "cell_type": "code",
   "execution_count": 26,
   "id": "21d9eac2",
   "metadata": {},
   "outputs": [],
   "source": [
    "#main_df.drop('student_id_y', axis=1, inplace=True)"
   ]
  },
  {
   "cell_type": "code",
   "execution_count": 27,
   "id": "cefc27f4",
   "metadata": {},
   "outputs": [],
   "source": [
    "main_df.rename(columns={'student_id_x': 'visited_students', 'student_id_y': 'paying_students'}, inplace=True)"
   ]
  },
  {
   "cell_type": "code",
   "execution_count": 28,
   "id": "a83a882d",
   "metadata": {},
   "outputs": [
    {
     "data": {
      "text/html": [
       "<div>\n",
       "<style scoped>\n",
       "    .dataframe tbody tr th:only-of-type {\n",
       "        vertical-align: middle;\n",
       "    }\n",
       "\n",
       "    .dataframe tbody tr th {\n",
       "        vertical-align: top;\n",
       "    }\n",
       "\n",
       "    .dataframe thead th {\n",
       "        text-align: right;\n",
       "    }\n",
       "</style>\n",
       "<table border=\"1\" class=\"dataframe\">\n",
       "  <thead>\n",
       "    <tr style=\"text-align: right;\">\n",
       "      <th></th>\n",
       "      <th>id</th>\n",
       "      <th>grp</th>\n",
       "      <th>visited_students</th>\n",
       "      <th>paying_students</th>\n",
       "      <th>rev</th>\n",
       "    </tr>\n",
       "  </thead>\n",
       "  <tbody>\n",
       "    <tr>\n",
       "      <th>0</th>\n",
       "      <td>1489</td>\n",
       "      <td>B</td>\n",
       "      <td>NaN</td>\n",
       "      <td>NaN</td>\n",
       "      <td>NaN</td>\n",
       "    </tr>\n",
       "    <tr>\n",
       "      <th>1</th>\n",
       "      <td>1627</td>\n",
       "      <td>A</td>\n",
       "      <td>1627.0</td>\n",
       "      <td>1627.0</td>\n",
       "      <td>990.0</td>\n",
       "    </tr>\n",
       "    <tr>\n",
       "      <th>2</th>\n",
       "      <td>1768</td>\n",
       "      <td>B</td>\n",
       "      <td>NaN</td>\n",
       "      <td>NaN</td>\n",
       "      <td>NaN</td>\n",
       "    </tr>\n",
       "    <tr>\n",
       "      <th>3</th>\n",
       "      <td>1783</td>\n",
       "      <td>B</td>\n",
       "      <td>NaN</td>\n",
       "      <td>NaN</td>\n",
       "      <td>NaN</td>\n",
       "    </tr>\n",
       "    <tr>\n",
       "      <th>4</th>\n",
       "      <td>1794</td>\n",
       "      <td>A</td>\n",
       "      <td>NaN</td>\n",
       "      <td>NaN</td>\n",
       "      <td>NaN</td>\n",
       "    </tr>\n",
       "    <tr>\n",
       "      <th>...</th>\n",
       "      <td>...</td>\n",
       "      <td>...</td>\n",
       "      <td>...</td>\n",
       "      <td>...</td>\n",
       "      <td>...</td>\n",
       "    </tr>\n",
       "    <tr>\n",
       "      <th>74571</th>\n",
       "      <td>200247820</td>\n",
       "      <td>B</td>\n",
       "      <td>NaN</td>\n",
       "      <td>NaN</td>\n",
       "      <td>NaN</td>\n",
       "    </tr>\n",
       "    <tr>\n",
       "      <th>74572</th>\n",
       "      <td>201032527</td>\n",
       "      <td>B</td>\n",
       "      <td>NaN</td>\n",
       "      <td>NaN</td>\n",
       "      <td>NaN</td>\n",
       "    </tr>\n",
       "    <tr>\n",
       "      <th>74573</th>\n",
       "      <td>201067612</td>\n",
       "      <td>B</td>\n",
       "      <td>NaN</td>\n",
       "      <td>NaN</td>\n",
       "      <td>NaN</td>\n",
       "    </tr>\n",
       "    <tr>\n",
       "      <th>74574</th>\n",
       "      <td>201067653</td>\n",
       "      <td>B</td>\n",
       "      <td>NaN</td>\n",
       "      <td>NaN</td>\n",
       "      <td>NaN</td>\n",
       "    </tr>\n",
       "    <tr>\n",
       "      <th>74575</th>\n",
       "      <td>201067659</td>\n",
       "      <td>B</td>\n",
       "      <td>NaN</td>\n",
       "      <td>NaN</td>\n",
       "      <td>NaN</td>\n",
       "    </tr>\n",
       "  </tbody>\n",
       "</table>\n",
       "<p>74576 rows × 5 columns</p>\n",
       "</div>"
      ],
      "text/plain": [
       "              id grp  visited_students  paying_students    rev\n",
       "0           1489   B               NaN              NaN    NaN\n",
       "1           1627   A            1627.0           1627.0  990.0\n",
       "2           1768   B               NaN              NaN    NaN\n",
       "3           1783   B               NaN              NaN    NaN\n",
       "4           1794   A               NaN              NaN    NaN\n",
       "...          ...  ..               ...              ...    ...\n",
       "74571  200247820   B               NaN              NaN    NaN\n",
       "74572  201032527   B               NaN              NaN    NaN\n",
       "74573  201067612   B               NaN              NaN    NaN\n",
       "74574  201067653   B               NaN              NaN    NaN\n",
       "74575  201067659   B               NaN              NaN    NaN\n",
       "\n",
       "[74576 rows x 5 columns]"
      ]
     },
     "execution_count": 28,
     "metadata": {},
     "output_type": "execute_result"
    }
   ],
   "source": [
    "main_df"
   ]
  },
  {
   "cell_type": "code",
   "execution_count": 29,
   "id": "25e51314",
   "metadata": {},
   "outputs": [],
   "source": [
    "# Отметим студентов, которые были активны в дни эксперимента и посещали сервис\n",
    "main_df['visited_students'] = main_df.visited_students.apply(lambda x: False if pd.isna(x) else True)"
   ]
  },
  {
   "cell_type": "code",
   "execution_count": 30,
   "id": "0155a695",
   "metadata": {},
   "outputs": [
    {
     "data": {
      "text/html": [
       "<div>\n",
       "<style scoped>\n",
       "    .dataframe tbody tr th:only-of-type {\n",
       "        vertical-align: middle;\n",
       "    }\n",
       "\n",
       "    .dataframe tbody tr th {\n",
       "        vertical-align: top;\n",
       "    }\n",
       "\n",
       "    .dataframe thead th {\n",
       "        text-align: right;\n",
       "    }\n",
       "</style>\n",
       "<table border=\"1\" class=\"dataframe\">\n",
       "  <thead>\n",
       "    <tr style=\"text-align: right;\">\n",
       "      <th></th>\n",
       "      <th>id</th>\n",
       "      <th>grp</th>\n",
       "      <th>visited_students</th>\n",
       "      <th>paying_students</th>\n",
       "      <th>rev</th>\n",
       "    </tr>\n",
       "  </thead>\n",
       "  <tbody>\n",
       "    <tr>\n",
       "      <th>0</th>\n",
       "      <td>1489</td>\n",
       "      <td>B</td>\n",
       "      <td>False</td>\n",
       "      <td>NaN</td>\n",
       "      <td>NaN</td>\n",
       "    </tr>\n",
       "    <tr>\n",
       "      <th>1</th>\n",
       "      <td>1627</td>\n",
       "      <td>A</td>\n",
       "      <td>True</td>\n",
       "      <td>1627.0</td>\n",
       "      <td>990.0</td>\n",
       "    </tr>\n",
       "    <tr>\n",
       "      <th>2</th>\n",
       "      <td>1768</td>\n",
       "      <td>B</td>\n",
       "      <td>False</td>\n",
       "      <td>NaN</td>\n",
       "      <td>NaN</td>\n",
       "    </tr>\n",
       "    <tr>\n",
       "      <th>3</th>\n",
       "      <td>1783</td>\n",
       "      <td>B</td>\n",
       "      <td>False</td>\n",
       "      <td>NaN</td>\n",
       "      <td>NaN</td>\n",
       "    </tr>\n",
       "    <tr>\n",
       "      <th>4</th>\n",
       "      <td>1794</td>\n",
       "      <td>A</td>\n",
       "      <td>False</td>\n",
       "      <td>NaN</td>\n",
       "      <td>NaN</td>\n",
       "    </tr>\n",
       "  </tbody>\n",
       "</table>\n",
       "</div>"
      ],
      "text/plain": [
       "     id grp  visited_students  paying_students    rev\n",
       "0  1489   B             False              NaN    NaN\n",
       "1  1627   A              True           1627.0  990.0\n",
       "2  1768   B             False              NaN    NaN\n",
       "3  1783   B             False              NaN    NaN\n",
       "4  1794   A             False              NaN    NaN"
      ]
     },
     "execution_count": 30,
     "metadata": {},
     "output_type": "execute_result"
    }
   ],
   "source": [
    "main_df.head()"
   ]
  },
  {
   "cell_type": "code",
   "execution_count": 31,
   "id": "3bb690be",
   "metadata": {},
   "outputs": [
    {
     "data": {
      "text/plain": [
       "False    66235\n",
       "True      8341\n",
       "Name: visited_students, dtype: int64"
      ]
     },
     "execution_count": 31,
     "metadata": {},
     "output_type": "execute_result"
    }
   ],
   "source": [
    "main_df.visited_students.value_counts()"
   ]
  },
  {
   "cell_type": "code",
   "execution_count": 32,
   "id": "abe0cef3",
   "metadata": {},
   "outputs": [],
   "source": [
    "# Заменим все значения Nan (пользователи, не совершившие оплату) на нули\n",
    "main_df.rev.fillna(0, inplace=True)"
   ]
  },
  {
   "cell_type": "code",
   "execution_count": 33,
   "id": "bc43471e",
   "metadata": {},
   "outputs": [],
   "source": [
    "# сделаем сводную таблицу\n",
    "pivot_table = pd.pivot_table(main_df, \n",
    "                             index='grp', \n",
    "                             columns='visited_students', \n",
    "                             values=['id', 'paying_students', 'rev'], \n",
    "                             aggfunc={'id': 'count', 'paying_students': 'count', 'rev': 'sum'})"
   ]
  },
  {
   "cell_type": "code",
   "execution_count": 34,
   "id": "4b3d9ff3",
   "metadata": {},
   "outputs": [
    {
     "data": {
      "text/html": [
       "<div>\n",
       "<style scoped>\n",
       "    .dataframe tbody tr th:only-of-type {\n",
       "        vertical-align: middle;\n",
       "    }\n",
       "\n",
       "    .dataframe tbody tr th {\n",
       "        vertical-align: top;\n",
       "    }\n",
       "\n",
       "    .dataframe thead tr th {\n",
       "        text-align: left;\n",
       "    }\n",
       "\n",
       "    .dataframe thead tr:last-of-type th {\n",
       "        text-align: right;\n",
       "    }\n",
       "</style>\n",
       "<table border=\"1\" class=\"dataframe\">\n",
       "  <thead>\n",
       "    <tr>\n",
       "      <th></th>\n",
       "      <th colspan=\"2\" halign=\"left\">id</th>\n",
       "      <th colspan=\"2\" halign=\"left\">paying_students</th>\n",
       "      <th colspan=\"2\" halign=\"left\">rev</th>\n",
       "    </tr>\n",
       "    <tr>\n",
       "      <th>visited_students</th>\n",
       "      <th>False</th>\n",
       "      <th>True</th>\n",
       "      <th>False</th>\n",
       "      <th>True</th>\n",
       "      <th>False</th>\n",
       "      <th>True</th>\n",
       "    </tr>\n",
       "    <tr>\n",
       "      <th>grp</th>\n",
       "      <th></th>\n",
       "      <th></th>\n",
       "      <th></th>\n",
       "      <th></th>\n",
       "      <th></th>\n",
       "      <th></th>\n",
       "    </tr>\n",
       "  </thead>\n",
       "  <tbody>\n",
       "    <tr>\n",
       "      <th>A</th>\n",
       "      <td>13155</td>\n",
       "      <td>1538</td>\n",
       "      <td>29</td>\n",
       "      <td>78</td>\n",
       "      <td>19276.0000</td>\n",
       "      <td>72820.0000</td>\n",
       "    </tr>\n",
       "    <tr>\n",
       "      <th>B</th>\n",
       "      <td>53080</td>\n",
       "      <td>6803</td>\n",
       "      <td>120</td>\n",
       "      <td>314</td>\n",
       "      <td>86256.0001</td>\n",
       "      <td>394974.0035</td>\n",
       "    </tr>\n",
       "  </tbody>\n",
       "</table>\n",
       "</div>"
      ],
      "text/plain": [
       "                     id       paying_students              rev             \n",
       "visited_students  False  True           False True       False         True\n",
       "grp                                                                        \n",
       "A                 13155  1538              29   78  19276.0000   72820.0000\n",
       "B                 53080  6803             120  314  86256.0001  394974.0035"
      ]
     },
     "execution_count": 34,
     "metadata": {},
     "output_type": "execute_result"
    }
   ],
   "source": [
    "pivot_table"
   ]
  },
  {
   "cell_type": "code",
   "execution_count": 35,
   "id": "99a52e48",
   "metadata": {},
   "outputs": [],
   "source": [
    "table_for_analysis = pivot_table.stack().reset_index()"
   ]
  },
  {
   "cell_type": "code",
   "execution_count": 36,
   "id": "9b4e8d51",
   "metadata": {},
   "outputs": [],
   "source": [
    "table_for_analysis.rename(columns={'visited_students': 'in_experiment', 'id': 'visited_students'}, inplace=True)"
   ]
  },
  {
   "cell_type": "markdown",
   "id": "e78f6af0",
   "metadata": {},
   "source": [
    "Используем следующие метрики:\n",
    "\n",
    "* ARPU  - средний доход с пользователя группы в момент проведения эксперимента\n",
    "\n",
    "* ARPPU - средний доход с платящего пользователя группы в момент проведения эксперимента\n",
    "\n",
    "* CR    - конверсия в покупку в момент проведения эксперимента "
   ]
  },
  {
   "cell_type": "markdown",
   "id": "3341214d",
   "metadata": {},
   "source": [
    "#### CR"
   ]
  },
  {
   "cell_type": "markdown",
   "id": "133702bf",
   "metadata": {},
   "source": [
    "С помощью критерия согласия Пирсона проверим, значимы ли различия между группами в доле платящих пользователей. **Н0 =** наблюдаемые частоты соответствуют ожидаемым\n",
    "**Н1 =** наблюдаемые частоты в группах отличаются от ожидаемых. \n",
    "Для этого составим таблицу сопряженности:"
   ]
  },
  {
   "cell_type": "code",
   "execution_count": 37,
   "id": "b3cf1cab",
   "metadata": {},
   "outputs": [
    {
     "data": {
      "text/html": [
       "<div>\n",
       "<style scoped>\n",
       "    .dataframe tbody tr th:only-of-type {\n",
       "        vertical-align: middle;\n",
       "    }\n",
       "\n",
       "    .dataframe tbody tr th {\n",
       "        vertical-align: top;\n",
       "    }\n",
       "\n",
       "    .dataframe thead th {\n",
       "        text-align: right;\n",
       "    }\n",
       "</style>\n",
       "<table border=\"1\" class=\"dataframe\">\n",
       "  <thead>\n",
       "    <tr style=\"text-align: right;\">\n",
       "      <th></th>\n",
       "      <th>grp</th>\n",
       "      <th>in_experiment</th>\n",
       "      <th>visited_students</th>\n",
       "      <th>paying_students</th>\n",
       "      <th>rev</th>\n",
       "    </tr>\n",
       "  </thead>\n",
       "  <tbody>\n",
       "    <tr>\n",
       "      <th>0</th>\n",
       "      <td>A</td>\n",
       "      <td>False</td>\n",
       "      <td>13155</td>\n",
       "      <td>29</td>\n",
       "      <td>19276.0000</td>\n",
       "    </tr>\n",
       "    <tr>\n",
       "      <th>1</th>\n",
       "      <td>A</td>\n",
       "      <td>True</td>\n",
       "      <td>1538</td>\n",
       "      <td>78</td>\n",
       "      <td>72820.0000</td>\n",
       "    </tr>\n",
       "    <tr>\n",
       "      <th>2</th>\n",
       "      <td>B</td>\n",
       "      <td>False</td>\n",
       "      <td>53080</td>\n",
       "      <td>120</td>\n",
       "      <td>86256.0001</td>\n",
       "    </tr>\n",
       "    <tr>\n",
       "      <th>3</th>\n",
       "      <td>B</td>\n",
       "      <td>True</td>\n",
       "      <td>6803</td>\n",
       "      <td>314</td>\n",
       "      <td>394974.0035</td>\n",
       "    </tr>\n",
       "  </tbody>\n",
       "</table>\n",
       "</div>"
      ],
      "text/plain": [
       "  grp  in_experiment  visited_students  paying_students          rev\n",
       "0   A          False             13155               29   19276.0000\n",
       "1   A           True              1538               78   72820.0000\n",
       "2   B          False             53080              120   86256.0001\n",
       "3   B           True              6803              314  394974.0035"
      ]
     },
     "execution_count": 37,
     "metadata": {},
     "output_type": "execute_result"
    }
   ],
   "source": [
    "table_for_analysis"
   ]
  },
  {
   "cell_type": "code",
   "execution_count": 38,
   "id": "8bc8a230",
   "metadata": {},
   "outputs": [],
   "source": [
    "table_for_cr = table_for_analysis.loc[:, 'grp':'paying_students'].query('in_experiment == True')"
   ]
  },
  {
   "cell_type": "code",
   "execution_count": 39,
   "id": "88c842e6",
   "metadata": {},
   "outputs": [],
   "source": [
    "table_for_cr['cr'] = table_for_cr.paying_students / table_for_cr.visited_students * 100"
   ]
  },
  {
   "cell_type": "code",
   "execution_count": 40,
   "id": "f7af1485",
   "metadata": {},
   "outputs": [
    {
     "data": {
      "text/html": [
       "<div>\n",
       "<style scoped>\n",
       "    .dataframe tbody tr th:only-of-type {\n",
       "        vertical-align: middle;\n",
       "    }\n",
       "\n",
       "    .dataframe tbody tr th {\n",
       "        vertical-align: top;\n",
       "    }\n",
       "\n",
       "    .dataframe thead th {\n",
       "        text-align: right;\n",
       "    }\n",
       "</style>\n",
       "<table border=\"1\" class=\"dataframe\">\n",
       "  <thead>\n",
       "    <tr style=\"text-align: right;\">\n",
       "      <th></th>\n",
       "      <th>grp</th>\n",
       "      <th>in_experiment</th>\n",
       "      <th>visited_students</th>\n",
       "      <th>paying_students</th>\n",
       "      <th>cr</th>\n",
       "    </tr>\n",
       "  </thead>\n",
       "  <tbody>\n",
       "    <tr>\n",
       "      <th>1</th>\n",
       "      <td>A</td>\n",
       "      <td>True</td>\n",
       "      <td>1538</td>\n",
       "      <td>78</td>\n",
       "      <td>5.071521</td>\n",
       "    </tr>\n",
       "    <tr>\n",
       "      <th>3</th>\n",
       "      <td>B</td>\n",
       "      <td>True</td>\n",
       "      <td>6803</td>\n",
       "      <td>314</td>\n",
       "      <td>4.615611</td>\n",
       "    </tr>\n",
       "  </tbody>\n",
       "</table>\n",
       "</div>"
      ],
      "text/plain": [
       "  grp  in_experiment  visited_students  paying_students        cr\n",
       "1   A           True              1538               78  5.071521\n",
       "3   B           True              6803              314  4.615611"
      ]
     },
     "execution_count": 40,
     "metadata": {},
     "output_type": "execute_result"
    }
   ],
   "source": [
    "table_for_cr"
   ]
  },
  {
   "cell_type": "code",
   "execution_count": 41,
   "id": "661036ed",
   "metadata": {},
   "outputs": [
    {
     "data": {
      "text/plain": [
       "array([[1538,   78],\n",
       "       [6803,  314]], dtype=int64)"
      ]
     },
     "execution_count": 41,
     "metadata": {},
     "output_type": "execute_result"
    }
   ],
   "source": [
    "table_for_cr.loc[:, 'visited_students': 'paying_students'].values"
   ]
  },
  {
   "cell_type": "markdown",
   "id": "0b7d63e7",
   "metadata": {},
   "source": [
    "**Проведем тестирование**"
   ]
  },
  {
   "cell_type": "code",
   "execution_count": 42,
   "id": "384cf075",
   "metadata": {},
   "outputs": [],
   "source": [
    "chi, pvalue, k, _ = chi2_contingency(table_for_cr.loc[:, 'visited_students': 'paying_students'].values)"
   ]
  },
  {
   "cell_type": "code",
   "execution_count": 43,
   "id": "bc39a038",
   "metadata": {},
   "outputs": [
    {
     "data": {
      "text/plain": [
       "0.43612258061018483"
      ]
     },
     "execution_count": 43,
     "metadata": {},
     "output_type": "execute_result"
    }
   ],
   "source": [
    "chi"
   ]
  },
  {
   "cell_type": "code",
   "execution_count": 44,
   "id": "c296df88",
   "metadata": {},
   "outputs": [
    {
     "data": {
      "text/plain": [
       "0.5089998823014525"
      ]
     },
     "execution_count": 44,
     "metadata": {},
     "output_type": "execute_result"
    }
   ],
   "source": [
    "pvalue"
   ]
  },
  {
   "cell_type": "code",
   "execution_count": 45,
   "id": "c28c3d15",
   "metadata": {
    "scrolled": true
   },
   "outputs": [
    {
     "data": {
      "text/plain": [
       "1"
      ]
     },
     "execution_count": 45,
     "metadata": {},
     "output_type": "execute_result"
    }
   ],
   "source": [
    "k"
   ]
  },
  {
   "cell_type": "markdown",
   "id": "456778fc",
   "metadata": {},
   "source": [
    "##### Вывод:\n",
    "Гипотеза об однородности выборок не отвергается. Таким образом, мы можем сказать, что **в результате проведенного теста, количество платящих пользователей значимо не изменилось**"
   ]
  },
  {
   "cell_type": "markdown",
   "id": "84b868d8",
   "metadata": {},
   "source": [
    "### Метрики дохода"
   ]
  },
  {
   "cell_type": "markdown",
   "id": "70aad349",
   "metadata": {},
   "source": [
    "#### ARPU"
   ]
  },
  {
   "cell_type": "markdown",
   "id": "13bf7ccc",
   "metadata": {},
   "source": [
    "Разделим данные для удобства анализа на 2 группы: тестовую и контрольную"
   ]
  },
  {
   "cell_type": "code",
   "execution_count": 46,
   "id": "e6fdc9b5",
   "metadata": {},
   "outputs": [],
   "source": [
    "df_control = main_df.query('grp == \"A\"')"
   ]
  },
  {
   "cell_type": "code",
   "execution_count": 47,
   "id": "57e38c43",
   "metadata": {},
   "outputs": [],
   "source": [
    "df_test = main_df.query('grp == \"B\"')"
   ]
  },
  {
   "cell_type": "markdown",
   "id": "14f6eebd",
   "metadata": {},
   "source": [
    "До начала эксперимента необходимо определить объем выборки, достаточный для того, чтобы различия между метриками были статистически значимы. В данном задании ничего не говорится о том, какое изменение целевых метрик будет призначаться значимым. Т.к. в нашем случае нам целевое изменение не известно, мы можем вычислить какова чувствительность у проведенного теста, при имеющихся объемах выборок, power=0.90 и уровне значимости 5%."
   ]
  },
  {
   "cell_type": "code",
   "execution_count": 48,
   "id": "56993d46",
   "metadata": {},
   "outputs": [],
   "source": [
    "# размер выборки контрольной группы\n",
    "nx = df_control.shape[0]"
   ]
  },
  {
   "cell_type": "code",
   "execution_count": 49,
   "id": "8a89ea2a",
   "metadata": {},
   "outputs": [],
   "source": [
    "# размер выборки тестовой группы\n",
    "ny = df_test.shape[0]"
   ]
  },
  {
   "cell_type": "code",
   "execution_count": 50,
   "id": "2efeceeb",
   "metadata": {},
   "outputs": [
    {
     "data": {
      "text/plain": [
       "0.0269420681523298"
      ]
     },
     "execution_count": 50,
     "metadata": {},
     "output_type": "execute_result"
    }
   ],
   "source": [
    "pg.power_ttest2n(nx=nx, ny=ny, power=0.90, alpha=0.05, alternative='greater')"
   ]
  },
  {
   "cell_type": "markdown",
   "id": "ebfac252",
   "metadata": {},
   "source": [
    "**Вывод:**\n",
    "При заданной мощности и объеме выборок, мы можем отследить изменения показателей более 2,7%."
   ]
  },
  {
   "cell_type": "markdown",
   "id": "837ed437",
   "metadata": {},
   "source": [
    "Проведем анализ данных пользователей, попавших в контрольную группу"
   ]
  },
  {
   "cell_type": "code",
   "execution_count": 51,
   "id": "ba9c13a9",
   "metadata": {},
   "outputs": [
    {
     "data": {
      "text/plain": [
       "count    14693.000000\n",
       "mean         6.268019\n",
       "std        100.790849\n",
       "min          0.000000\n",
       "25%          0.000000\n",
       "50%          0.000000\n",
       "75%          0.000000\n",
       "max       3660.000000\n",
       "Name: rev, dtype: float64"
      ]
     },
     "execution_count": 51,
     "metadata": {},
     "output_type": "execute_result"
    }
   ],
   "source": [
    "df_control['rev'].describe()"
   ]
  },
  {
   "cell_type": "code",
   "execution_count": 52,
   "id": "294e948e",
   "metadata": {},
   "outputs": [
    {
     "data": {
      "text/plain": [
       "count    59883.000000\n",
       "mean         8.036171\n",
       "std        113.249998\n",
       "min          0.000000\n",
       "25%          0.000000\n",
       "50%          0.000000\n",
       "75%          0.000000\n",
       "max       4650.000000\n",
       "Name: rev, dtype: float64"
      ]
     },
     "execution_count": 52,
     "metadata": {},
     "output_type": "execute_result"
    }
   ],
   "source": [
    "df_test['rev'].describe()"
   ]
  },
  {
   "cell_type": "code",
   "execution_count": 53,
   "id": "17f4f2ca",
   "metadata": {
    "scrolled": true
   },
   "outputs": [
    {
     "data": {
      "image/png": "[encoded data removed]",
      "text/plain": [
       "<Figure size 1152x432 with 4 Axes>"
      ]
     },
     "metadata": {
      "needs_background": "light"
     },
     "output_type": "display_data"
    }
   ],
   "source": [
    "# Распределение оплат \n",
    "fig, axs = plt.subplots(2, 2, figsize=(16, 6))\n",
    "axs[0, 0].hist(df_control.rev, bins=50, label='Control group')\n",
    "axs[0, 1].hist(df_test.rev, bins=50, label='Test group')\n",
    "axs[1, 0].boxplot(df_control.rev)\n",
    "axs[1, 1].boxplot(df_test.rev)\n",
    "plt.show()"
   ]
  },
  {
   "cell_type": "markdown",
   "id": "854508b7",
   "metadata": {},
   "source": [
    "Т.к. ARPU фактически является средним значение в выборке, мы можем применить парный t-тест для их сравнения. Однако, его можно применять при выполнении следующих требований:\n",
    "\n",
    "требование гомогенности дисперсий. Проверяем с помощью критерия Левена\n",
    "требование к нормальности данных обеих групп. Хотя все понятно визуально, но применим тест Шапиро-Уилка для определения нормальности распределения."
   ]
  },
  {
   "cell_type": "code",
   "execution_count": 54,
   "id": "c0003a8f",
   "metadata": {},
   "outputs": [],
   "source": [
    "# Запускаем тест Левена\n",
    "stat, p = levene(df_control.rev, df_test.rev)"
   ]
  },
  {
   "cell_type": "code",
   "execution_count": 55,
   "id": "d314d1a9",
   "metadata": {},
   "outputs": [
    {
     "data": {
      "text/plain": [
       "0.08333204995116977"
      ]
     },
     "execution_count": 55,
     "metadata": {},
     "output_type": "execute_result"
    }
   ],
   "source": [
    "p"
   ]
  },
  {
   "cell_type": "markdown",
   "id": "a34bc46b",
   "metadata": {},
   "source": [
    "**Вывод:** Результаты теста Левина не позволяют опровергнуть нулевую гипотезу о равенстве дисперсий."
   ]
  },
  {
   "cell_type": "code",
   "execution_count": 56,
   "id": "7e5c3de3",
   "metadata": {},
   "outputs": [
    {
     "data": {
      "text/plain": [
       "(ShapiroResult(statistic=0.0681658387184143, pvalue=0.0),\n",
       " ShapiroResult(statistic=0.01723027229309082, pvalue=0.0))"
      ]
     },
     "execution_count": 56,
     "metadata": {},
     "output_type": "execute_result"
    }
   ],
   "source": [
    "# Убедимся, что распределения не нормальные, используя критерий Шапиро-Уилка, предварительно сэмплируя выборки\n",
    "# (если P-value меньше 0.05 можно считать распределение не нормальным)\n",
    "shapiro(df_control.rev.sample(1000, random_state=17)), \\\n",
    "shapiro(df_test.rev.sample(1000, random_state=17))"
   ]
  },
  {
   "cell_type": "markdown",
   "id": "5a7ea86e",
   "metadata": {},
   "source": [
    "**Вывод:** Мы отклоняем нулевую гипотезу о том, что тестовая и контрольная выборки распределены нормально"
   ]
  },
  {
   "cell_type": "markdown",
   "id": "48417ad2",
   "metadata": {},
   "source": [
    "В этом случае, мы можем применять непараметрический тест Манна-Уитни или использовать симуляцию. В силу трудной интерпретации результатов проведения теста Манна-Уитни, мы будем прибегать к симуляции для оценки значимости имеющихся различий, с помощью bootstrap."
   ]
  },
  {
   "cell_type": "code",
   "execution_count": 57,
   "id": "a3973cce",
   "metadata": {},
   "outputs": [],
   "source": [
    "test_group_ARPU = df_test.rev"
   ]
  },
  {
   "cell_type": "code",
   "execution_count": 58,
   "id": "3e60581f",
   "metadata": {},
   "outputs": [],
   "source": [
    "control_group_ARPU = df_control.rev"
   ]
  },
  {
   "cell_type": "code",
   "execution_count": 59,
   "id": "1999fc4d",
   "metadata": {},
   "outputs": [
    {
     "data": {
      "text/plain": [
       "28.21"
      ]
     },
     "execution_count": 59,
     "metadata": {},
     "output_type": "execute_result"
    }
   ],
   "source": [
    "diff_arpu = (test_group_ARPU.mean() - control_group_ARPU.mean()) / control_group_ARPU.mean() * 100\n",
    "round(diff_arpu, 2)"
   ]
  },
  {
   "cell_type": "code",
   "execution_count": 60,
   "id": "494b0bcf",
   "metadata": {},
   "outputs": [],
   "source": [
    "# Объявим функцию, которая позволит проверять гипотезы с помощью бутстрапа\n",
    "def get_bootstrap(\n",
    "    data_column_1,   # числовые значения первой выборки\n",
    "    data_column_2,   # числовые значения второй выборки\n",
    "    boot_it=1000,   # количество бутстрэп-подвыборок\n",
    "    statistic=np.mean,   # интересующая нас статистика\n",
    "    bootstrap_conf_level=0.95   # уровень значимости\n",
    "):\n",
    "    boot_len = max([len(data_column_1), len(data_column_2)])\n",
    "    boot_data = []\n",
    "    \n",
    "    for i in tqdm(range(boot_it)):   # извлекаем подвыборки\n",
    "        samples_1 = data_column_1.sample(\n",
    "            boot_len, \n",
    "            replace=True   # параметр возвращения\n",
    "        ).values\n",
    "        \n",
    "        samples_2 = data_column_2.sample(\n",
    "            boot_len, \n",
    "            replace=True\n",
    "        ).values\n",
    "        \n",
    "        boot_data.append(statistic(samples_1 - samples_2))   # mean() - применяем статистику\n",
    "        \n",
    "    pd_boot_data = pd.DataFrame(boot_data)\n",
    "        \n",
    "    left_quant = (1 - bootstrap_conf_level) / 2\n",
    "    right_quant = 1 - (1 - bootstrap_conf_level) / 2\n",
    "    ci = pd_boot_data.quantile([left_quant, right_quant])\n",
    "        \n",
    "    p_1 = norm.cdf(\n",
    "        x=0, \n",
    "        loc=np.mean(boot_data), \n",
    "        scale=np.std(boot_data)\n",
    "    )\n",
    "    p_2 = norm.cdf(\n",
    "        x=0, \n",
    "        loc=-np.mean(boot_data), \n",
    "        scale=np.std(boot_data)\n",
    "    )\n",
    "    p_value = min(p_1, p_2) * 2\n",
    "        \n",
    "    # Визуализация\n",
    "    plt.hist(pd_boot_data[0], bins=50)\n",
    "    \n",
    "    plt.style.use('ggplot')\n",
    "    plt.vlines(ci, ymin=0, ymax=50, linestyle='--')\n",
    "    plt.xlabel('boot_data')\n",
    "    plt.ylabel('frequency')\n",
    "    plt.title(\"Histogram of boot_data\")\n",
    "    plt.show()\n",
    "       \n",
    "    return {\"boot_data\": boot_data, \n",
    "            \"ci\": ci, \n",
    "            \"p_value\": p_value}"
   ]
  },
  {
   "cell_type": "code",
   "execution_count": 61,
   "id": "6821461b",
   "metadata": {},
   "outputs": [
    {
     "data": {
      "application/vnd.jupyter.widget-view+json": {
       "model_id": "ec27db72d6b94db69678d9a991550b33",
       "version_major": 2,
       "version_minor": 0
      },
      "text/plain": [
       "  0%|          | 0/2000 [00:00<?, ?it/s]"
      ]
     },
     "metadata": {},
     "output_type": "display_data"
    },
    {
     "data": {
      "image/png": "[encoded data removed]",
      "text/plain": [
       "<Figure size 432x288 with 1 Axes>"
      ]
     },
     "metadata": {
      "needs_background": "light"
     },
     "output_type": "display_data"
    }
   ],
   "source": [
    "booted_data = get_bootstrap(test_group_ARPU, control_group_ARPU, boot_it=2000)"
   ]
  },
  {
   "cell_type": "code",
   "execution_count": 62,
   "id": "692cbddf",
   "metadata": {},
   "outputs": [
    {
     "data": {
      "text/plain": [
       "0.00507815744347576"
      ]
     },
     "execution_count": 62,
     "metadata": {},
     "output_type": "execute_result"
    }
   ],
   "source": [
    "booted_data[\"p_value\"]"
   ]
  },
  {
   "cell_type": "code",
   "execution_count": 63,
   "id": "e38029df",
   "metadata": {},
   "outputs": [
    {
     "data": {
      "text/html": [
       "<div>\n",
       "<style scoped>\n",
       "    .dataframe tbody tr th:only-of-type {\n",
       "        vertical-align: middle;\n",
       "    }\n",
       "\n",
       "    .dataframe tbody tr th {\n",
       "        vertical-align: top;\n",
       "    }\n",
       "\n",
       "    .dataframe thead th {\n",
       "        text-align: right;\n",
       "    }\n",
       "</style>\n",
       "<table border=\"1\" class=\"dataframe\">\n",
       "  <thead>\n",
       "    <tr style=\"text-align: right;\">\n",
       "      <th></th>\n",
       "      <th>0</th>\n",
       "    </tr>\n",
       "  </thead>\n",
       "  <tbody>\n",
       "    <tr>\n",
       "      <th>0.025</th>\n",
       "      <td>0.508477</td>\n",
       "    </tr>\n",
       "    <tr>\n",
       "      <th>0.975</th>\n",
       "      <td>3.041206</td>\n",
       "    </tr>\n",
       "  </tbody>\n",
       "</table>\n",
       "</div>"
      ],
      "text/plain": [
       "              0\n",
       "0.025  0.508477\n",
       "0.975  3.041206"
      ]
     },
     "execution_count": 63,
     "metadata": {},
     "output_type": "execute_result"
    }
   ],
   "source": [
    "booted_data[\"ci\"]"
   ]
  },
  {
   "cell_type": "markdown",
   "id": "4201202a",
   "metadata": {},
   "source": [
    "##### Вывод: \n",
    "**ARPU** в двух выборках значимо отличается, р-value в данном случае меньше уровня значимости 0,05, а в доверительный интервал не попал 0."
   ]
  },
  {
   "cell_type": "markdown",
   "id": "14a78077",
   "metadata": {},
   "source": [
    "### ARPPU"
   ]
  },
  {
   "cell_type": "markdown",
   "id": "ddba28da",
   "metadata": {},
   "source": [
    "Для того, чтобы расчитать ARPPU, нам нужны данные по платящим пользователям."
   ]
  },
  {
   "cell_type": "code",
   "execution_count": 64,
   "id": "283b6aac",
   "metadata": {},
   "outputs": [
    {
     "data": {
      "text/html": [
       "<div>\n",
       "<style scoped>\n",
       "    .dataframe tbody tr th:only-of-type {\n",
       "        vertical-align: middle;\n",
       "    }\n",
       "\n",
       "    .dataframe tbody tr th {\n",
       "        vertical-align: top;\n",
       "    }\n",
       "\n",
       "    .dataframe thead th {\n",
       "        text-align: right;\n",
       "    }\n",
       "</style>\n",
       "<table border=\"1\" class=\"dataframe\">\n",
       "  <thead>\n",
       "    <tr style=\"text-align: right;\">\n",
       "      <th></th>\n",
       "      <th>grp</th>\n",
       "      <th>mean</th>\n",
       "    </tr>\n",
       "  </thead>\n",
       "  <tbody>\n",
       "    <tr>\n",
       "      <th>0</th>\n",
       "      <td>A</td>\n",
       "      <td>860.710280</td>\n",
       "    </tr>\n",
       "    <tr>\n",
       "      <th>1</th>\n",
       "      <td>B</td>\n",
       "      <td>1108.824893</td>\n",
       "    </tr>\n",
       "  </tbody>\n",
       "</table>\n",
       "</div>"
      ],
      "text/plain": [
       "  grp         mean\n",
       "0   A   860.710280\n",
       "1   B  1108.824893"
      ]
     },
     "execution_count": 64,
     "metadata": {},
     "output_type": "execute_result"
    }
   ],
   "source": [
    "ARPPU_by_groups = main_df.query('rev > 0') \\\n",
    "                         .groupby('grp', as_index=False) \\\n",
    "                         .agg({'rev': 'mean'}) \\\n",
    "                         .rename(columns={'rev': 'mean'})\n",
    "ARPPU_by_groups"
   ]
  },
  {
   "cell_type": "code",
   "execution_count": 65,
   "id": "a5b1063d",
   "metadata": {},
   "outputs": [
    {
     "data": {
      "image/png": "[encoded data removed]",
      "text/plain": [
       "<Figure size 1152x432 with 4 Axes>"
      ]
     },
     "metadata": {},
     "output_type": "display_data"
    }
   ],
   "source": [
    "# Распределение по оплате среди всех платящих\n",
    "fig, axs = plt.subplots(2, 2, figsize=(16, 6))\n",
    "axs[0, 0].hist(df_control.query('rev > 0').rev, bins=50, label='Control group')\n",
    "axs[0, 1].hist(df_test.query('rev > 0').rev, bins=50, label='Test group')\n",
    "axs[1, 0].boxplot(df_control.query('rev > 0').rev)\n",
    "axs[1, 1].boxplot(df_test.query('rev > 0').rev)\n",
    "plt.show()"
   ]
  },
  {
   "cell_type": "markdown",
   "id": "4282b8d2",
   "metadata": {},
   "source": [
    "Как мы видим, распределение не является нормальным"
   ]
  },
  {
   "cell_type": "markdown",
   "id": "5c1aabff",
   "metadata": {},
   "source": [
    "Т.к. ARPPU фактически является средним значение в выборке, мы можем применить аналогичный порядок действий, который применяли по отношению к ARPU.\n",
    "Порядок действий:\n",
    "1. проверка на соответствие требованию гомогенности дисперсий. Проверяем с помощью критерия Левена\n",
    "2. проверка на соответствие требованию к нормальности данных обеих групп. Хотя все понятно визуально, но применим тест Шапиро-Уилка для определения нормальности распределения\n",
    "3. парный t-тест для сравнения, если предыдущие условия выполняются."
   ]
  },
  {
   "cell_type": "code",
   "execution_count": 66,
   "id": "c79c4c0e",
   "metadata": {},
   "outputs": [],
   "source": [
    "df_control_arppu = df_control.query('rev > 0')"
   ]
  },
  {
   "cell_type": "code",
   "execution_count": 67,
   "id": "d79ab3d4",
   "metadata": {},
   "outputs": [],
   "source": [
    "df_test_arppu = df_test.query('rev > 0')"
   ]
  },
  {
   "cell_type": "code",
   "execution_count": 68,
   "id": "bec631bf",
   "metadata": {},
   "outputs": [
    {
     "data": {
      "text/plain": [
       "28.83"
      ]
     },
     "execution_count": 68,
     "metadata": {},
     "output_type": "execute_result"
    }
   ],
   "source": [
    "diff_arppu = (df_test_arppu['rev'].mean() - df_control_arppu['rev'].mean()) / df_control_arppu['rev'].mean() * 100\n",
    "round(diff_arppu, 2)"
   ]
  },
  {
   "cell_type": "code",
   "execution_count": 69,
   "id": "8159f4f7",
   "metadata": {},
   "outputs": [],
   "source": [
    "# Запускаем тест Левена\n",
    "stat, p = levene(df_control_arppu.rev, df_test_arppu.rev)"
   ]
  },
  {
   "cell_type": "code",
   "execution_count": 70,
   "id": "4317f2e0",
   "metadata": {},
   "outputs": [
    {
     "data": {
      "text/plain": [
       "0.03477352573759214"
      ]
     },
     "execution_count": 70,
     "metadata": {},
     "output_type": "execute_result"
    }
   ],
   "source": [
    "p"
   ]
  },
  {
   "cell_type": "markdown",
   "id": "9bae51c7",
   "metadata": {},
   "source": [
    "**Вывод:** Результаты теста Левина не позволяют опровергнуть нулевую гипотезу о равенстве дисперсий."
   ]
  },
  {
   "cell_type": "code",
   "execution_count": 71,
   "id": "cabdeb9a",
   "metadata": {},
   "outputs": [
    {
     "data": {
      "text/plain": [
       "(ShapiroResult(statistic=0.7196124196052551, pvalue=5.321687643507211e-13),\n",
       " ShapiroResult(statistic=0.8672363758087158, pvalue=8.947892893418603e-19))"
      ]
     },
     "execution_count": 71,
     "metadata": {},
     "output_type": "execute_result"
    }
   ],
   "source": [
    "# Убедимся, что распределения не нормальные, используя критерий Шапиро-Уилка\n",
    "# (если P-value меньше 0.05 можно считать распределение не нормальным)\n",
    "shapiro(df_control.query('rev > 0').rev), \\\n",
    "shapiro(df_test.query('rev > 0').rev)"
   ]
  },
  {
   "cell_type": "markdown",
   "id": "372985db",
   "metadata": {},
   "source": [
    "**Вывод:** Мы отклоняем нулевую гипотезу о том, что тестовая и контрольная выборки распределены нормально"
   ]
  },
  {
   "cell_type": "markdown",
   "id": "bde09959",
   "metadata": {},
   "source": [
    "В этом случае, мы можем применять непараметрический тест Манна-Уитни или использовать симуляцию. В силу трудной интерпретации результатов проведения теста Манна-Уитни, мы будем прибегать к симуляции для оценки значимости имеющихся различий, с помощью bootstrap."
   ]
  },
  {
   "cell_type": "code",
   "execution_count": 72,
   "id": "996adec0",
   "metadata": {},
   "outputs": [],
   "source": [
    "test_group_ARPPU = df_test_arppu.rev"
   ]
  },
  {
   "cell_type": "code",
   "execution_count": 73,
   "id": "677d8f90",
   "metadata": {},
   "outputs": [],
   "source": [
    "control_group_ARPPU = df_control_arppu.rev"
   ]
  },
  {
   "cell_type": "code",
   "execution_count": 74,
   "id": "d403f176",
   "metadata": {},
   "outputs": [
    {
     "data": {
      "application/vnd.jupyter.widget-view+json": {
       "model_id": "59100ce068334684a81fbc872481de68",
       "version_major": 2,
       "version_minor": 0
      },
      "text/plain": [
       "  0%|          | 0/2000 [00:00<?, ?it/s]"
      ]
     },
     "metadata": {},
     "output_type": "display_data"
    },
    {
     "data": {
      "image/png": "[encoded data removed]",
      "text/plain": [
       "<Figure size 432x288 with 1 Axes>"
      ]
     },
     "metadata": {},
     "output_type": "display_data"
    }
   ],
   "source": [
    "booted_data = get_bootstrap(test_group_ARPPU, control_group_ARPPU, boot_it=2000)"
   ]
  },
  {
   "cell_type": "code",
   "execution_count": 75,
   "id": "cd566843",
   "metadata": {},
   "outputs": [
    {
     "data": {
      "text/plain": [
       "2.802811614178724e-06"
      ]
     },
     "execution_count": 75,
     "metadata": {},
     "output_type": "execute_result"
    }
   ],
   "source": [
    "booted_data[\"p_value\"]"
   ]
  },
  {
   "cell_type": "code",
   "execution_count": 76,
   "id": "069a6af7",
   "metadata": {},
   "outputs": [
    {
     "data": {
      "text/html": [
       "<div>\n",
       "<style scoped>\n",
       "    .dataframe tbody tr th:only-of-type {\n",
       "        vertical-align: middle;\n",
       "    }\n",
       "\n",
       "    .dataframe tbody tr th {\n",
       "        vertical-align: top;\n",
       "    }\n",
       "\n",
       "    .dataframe thead th {\n",
       "        text-align: right;\n",
       "    }\n",
       "</style>\n",
       "<table border=\"1\" class=\"dataframe\">\n",
       "  <thead>\n",
       "    <tr style=\"text-align: right;\">\n",
       "      <th></th>\n",
       "      <th>0</th>\n",
       "    </tr>\n",
       "  </thead>\n",
       "  <tbody>\n",
       "    <tr>\n",
       "      <th>0.025</th>\n",
       "      <td>146.427601</td>\n",
       "    </tr>\n",
       "    <tr>\n",
       "      <th>0.975</th>\n",
       "      <td>352.877255</td>\n",
       "    </tr>\n",
       "  </tbody>\n",
       "</table>\n",
       "</div>"
      ],
      "text/plain": [
       "                0\n",
       "0.025  146.427601\n",
       "0.975  352.877255"
      ]
     },
     "execution_count": 76,
     "metadata": {},
     "output_type": "execute_result"
    }
   ],
   "source": [
    "booted_data[\"ci\"]"
   ]
  },
  {
   "cell_type": "markdown",
   "id": "eba5895e",
   "metadata": {},
   "source": [
    "**ARPPU** в двух выборках значимо отличается, р-value в данном случае меньше уровня значимости 0,05, а в доверительный интервал не попал 0."
   ]
  },
  {
   "cell_type": "markdown",
   "id": "f4c4b01f",
   "metadata": {},
   "source": [
    "## Общие выводы по заданию"
   ]
  },
  {
   "cell_type": "markdown",
   "id": "b81fc3b5",
   "metadata": {},
   "source": [
    "**Основные гипотезы для анализа результатов теста**\n",
    "\n",
    "**Нулевая гипотеза.** Все механики оплаты имеют одинаковые показатели платежной эффективности. Другими словами, нет эффекта или нет разницы между применением разных механик оплат.\n",
    "\n",
    "**Альтернативная гипотеза.** Между разными механиками оплат есть статистически значимая разница."
   ]
  },
  {
   "cell_type": "markdown",
   "id": "e9bd848b",
   "metadata": {},
   "source": [
    "### Результаты:\n",
    "Показатель конверсии (CR) не различается значимо в тестовой контрольной группе. \n",
    "ARPU, ARPPU значимо различаются в тестовой и контрольной группе.\n",
    "Исходя из этого, мы можем доверять следующим данным:\n",
    "1. В тестовой группе ARPU выше на 28,21%\n",
    "2. В тестовой группе ARPPU выше на 28,83%\n",
    "Метрики дохода значительно выросли, без сокращения конверсии.\n",
    "\n",
    "Таким образом, мы можем сделать вывод о том, что внедрение новой механики оплаты можно считать успешным."
   ]
  },
  {
   "cell_type": "code",
   "execution_count": null,
   "id": "bcd62789",
   "metadata": {},
   "outputs": [],
   "source": []
  },
  {
   "cell_type": "code",
   "execution_count": null,
   "id": "a137c945",
   "metadata": {},
   "outputs": [],
   "source": []
  }
 ],
 "metadata": {
  "kernelspec": {
   "display_name": "Python 3 (ipykernel)",
   "language": "python",
   "name": "python3"
  },
  "language_info": {
   "codemirror_mode": {
    "name": "ipython",
    "version": 3
   },
   "file_extension": ".py",
   "mimetype": "text/x-python",
   "name": "python",
   "nbconvert_exporter": "python",
   "pygments_lexer": "ipython3",
   "version": "3.9.7"
  }
 },
 "nbformat": 4,
 "nbformat_minor": 5
}
