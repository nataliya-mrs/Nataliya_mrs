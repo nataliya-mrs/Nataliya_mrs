{
 "cells": [
  {
   "cell_type": "markdown",
   "id": "23d00fb8",
   "metadata": {},
   "source": [
    "## Задание 1. Python"
   ]
  },
  {
   "cell_type": "markdown",
   "id": "430bbcb0",
   "metadata": {},
   "source": [
    "1. Реализуйте функцию, которая будет автоматически подгружать информацию из дополнительного файла groups_add.csv (заголовки могут отличаться) и на основании дополнительных параметров пересчитывать метрики.\n",
    "2. Реализуйте функцию, которая будет строить графики по получаемым метрикам."
   ]
  },
  {
   "cell_type": "code",
   "execution_count": 1,
   "id": "871579c4",
   "metadata": {},
   "outputs": [],
   "source": [
    "import pandas as pd\n",
    "import numpy as np\n",
    "\n",
    "import matplotlib.pyplot as plt\n",
    "import seaborn as sns\n",
    "%matplotlib inline\n",
    "\n",
    "import datetime\n",
    "\n",
    "import requests\n",
    "from urllib.parse import urlencode"
   ]
  },
  {
   "cell_type": "code",
   "execution_count": 2,
   "id": "c6c62c95",
   "metadata": {},
   "outputs": [],
   "source": [
    "def get_data_from_Yandex_disk(url, sep):\n",
    "    \"\"\" \n",
    "    Возвращает df из файла с .csv-расширением, хранящегося на Яндекс-диске,\n",
    "    url - путь на Яндекс-диск,\n",
    "    sep - разделитель в файле csv\n",
    "    \"\"\"\n",
    "    base_url = 'https://cloud-api.yandex.net/v1/disk/public/resources/download?'\n",
    "       \n",
    "    # Получаем загрузочную ссылку\n",
    "    final_url = base_url + urlencode(dict(public_key=url))\n",
    "    response = requests.get(final_url)\n",
    "    download_url = response.json()['href']\n",
    "    \n",
    "    # Загружаем файл и сохраняем его\n",
    "    download_response = requests.get(download_url)\n",
    "    df = pd.read_csv(download_url, sep=sep)\n",
    "    return df"
   ]
  },
  {
   "cell_type": "code",
   "execution_count": 3,
   "id": "25a4818e",
   "metadata": {},
   "outputs": [],
   "source": [
    "# Загружаем файлы при помощи созданной функции\n",
    "groups = get_data_from_Yandex_disk(\"https://disk.yandex.ru/d/jyT8UrFH3OtIHQ\", sep=';')\n",
    "group_add = get_data_from_Yandex_disk(\"https://disk.yandex.ru/d/hH_80polNPR4Ag\", sep=',')\n",
    "active_studs = get_data_from_Yandex_disk(\"https://disk.yandex.ru/d/mV4V4shrYbZUOA\", sep=';')\n",
    "checks = get_data_from_Yandex_disk(\"https://disk.yandex.ru/d/CXNfyVyanGuFbA\", sep=';')"
   ]
  },
  {
   "cell_type": "code",
   "execution_count": 4,
   "id": "397e3293",
   "metadata": {},
   "outputs": [],
   "source": [
    "def add_info_exp(groups, active_studs, checks, link, sep):\n",
    "    \"\"\"\n",
    "    Функция будет автоматически подгружать информацию из дополнительного файла groups_add.csv и пересчитывать метрики.\n",
    "    Уже имеются следующие данные:\n",
    "    groups.csv - файл с информацией о принадлежности пользователя к контрольной или экспериментальной группе (А – контроль, B – целевая группа)\n",
    "    active_studs.csv - файл с информацией о пользователях, которые зашли на платформу в дни проведения эксперимента.\n",
    "    checks.csv - файл с информацией об оплатах пользователей в дни проведения эксперимента.\n",
    "    \"\"\"\n",
    "    group_add = get_data_from_Yandex_disk(link, sep)\n",
    "    \n",
    "    # Переименуем заголовки заголовки \n",
    "    for i in group_add.columns:\n",
    "        if group_add[i].dtype == 'int64':\n",
    "            group_add.rename(columns={i: 'id'}, inplace=True)\n",
    "        else:\n",
    "            group_add.rename(columns={i: 'grp'}, inplace=True)\n",
    "        \n",
    "    # Добавляем дополнительные данные в df \n",
    "    groups = groups.append(group_add, ignore_index=True)\n",
    "    \n",
    "    # Присоединим к данным о группах эксперимента данные об id пользователей, которые зашли на платформу, а также покупателей\n",
    "    main_df = pd.merge(left=groups, right=active_studs, how='left', left_on='id', right_on='student_id')\n",
    "    main_df = pd.merge(left=main_df, right=checks, how='left', left_on='id', right_on='student_id')\n",
    "    \n",
    "    # Переименуем колонки\n",
    "    main_df.rename(columns={'student_id_x': 'visited_students', 'student_id_y': 'paying_students'}, inplace=True)\n",
    "    \n",
    "    # Отметим студентов, которые были активны в дни эксперимента и посещали сервис\n",
    "    main_df['in_experiment'] = main_df.visited_students.apply(lambda x: False if pd.isna(x) else True)\n",
    "    \n",
    "    # Заменим все значения Nan (пользователи, не совершившие оплату) на нули\n",
    "    main_df.rev.fillna(0, inplace=True)\n",
    "    \n",
    "    \n",
    "    # сделаем таблицу, в которую будем вносить метрики\n",
    "    df_for_metrics = main_df.query('in_experiment == True')\n",
    "    metrics = pd.DataFrame(columns=['all_users', 'paying_users', 'revenue', 'ARPU', 'ARPPU', 'CR'], \n",
    "                           index=['A', 'B'])\n",
    "    \n",
    "    #Считаем метрики:\n",
    "    metrics['all_users'] = df_for_metrics.groupby('grp').agg({'id': 'count'})\n",
    "    metrics['paying_users'] = df_for_metrics.groupby('grp').agg({'paying_students': 'count'})\n",
    "    metrics['revenue'] = df_for_metrics.groupby('grp').agg({'rev': 'sum'})\n",
    "    metrics['ARPU'] = metrics.revenue / metrics.all_users\n",
    "    metrics['ARPPU'] = metrics.revenue / metrics.paying_users\n",
    "    metrics['CR'] = metrics.paying_users / metrics.all_users * 100\n",
    "    \n",
    "    return metrics\n",
    "        "
   ]
  },
  {
   "cell_type": "code",
   "execution_count": 5,
   "id": "13b4b79e",
   "metadata": {},
   "outputs": [],
   "source": [
    "metrics = add_info_exp(groups, active_studs, checks, link=\"https://disk.yandex.ru/d/sjoWEkWotlDeZQ\", sep=',')"
   ]
  },
  {
   "cell_type": "code",
   "execution_count": 6,
   "id": "6cb1e403",
   "metadata": {},
   "outputs": [
    {
     "data": {
      "text/html": [
       "<div>\n",
       "<style scoped>\n",
       "    .dataframe tbody tr th:only-of-type {\n",
       "        vertical-align: middle;\n",
       "    }\n",
       "\n",
       "    .dataframe tbody tr th {\n",
       "        vertical-align: top;\n",
       "    }\n",
       "\n",
       "    .dataframe thead th {\n",
       "        text-align: right;\n",
       "    }\n",
       "</style>\n",
       "<table border=\"1\" class=\"dataframe\">\n",
       "  <thead>\n",
       "    <tr style=\"text-align: right;\">\n",
       "      <th></th>\n",
       "      <th>all_users</th>\n",
       "      <th>paying_users</th>\n",
       "      <th>revenue</th>\n",
       "      <th>ARPU</th>\n",
       "      <th>ARPPU</th>\n",
       "      <th>CR</th>\n",
       "    </tr>\n",
       "  </thead>\n",
       "  <tbody>\n",
       "    <tr>\n",
       "      <th>A</th>\n",
       "      <td>1538</td>\n",
       "      <td>78</td>\n",
       "      <td>72820.0000</td>\n",
       "      <td>47.347204</td>\n",
       "      <td>933.589744</td>\n",
       "      <td>5.071521</td>\n",
       "    </tr>\n",
       "    <tr>\n",
       "      <th>B</th>\n",
       "      <td>6803</td>\n",
       "      <td>314</td>\n",
       "      <td>394974.0035</td>\n",
       "      <td>58.058798</td>\n",
       "      <td>1257.878992</td>\n",
       "      <td>4.615611</td>\n",
       "    </tr>\n",
       "  </tbody>\n",
       "</table>\n",
       "</div>"
      ],
      "text/plain": [
       "   all_users  paying_users      revenue       ARPU        ARPPU        CR\n",
       "A       1538            78   72820.0000  47.347204   933.589744  5.071521\n",
       "B       6803           314  394974.0035  58.058798  1257.878992  4.615611"
      ]
     },
     "execution_count": 6,
     "metadata": {},
     "output_type": "execute_result"
    }
   ],
   "source": [
    "metrics"
   ]
  },
  {
   "cell_type": "code",
   "execution_count": 7,
   "id": "b50fa99a",
   "metadata": {},
   "outputs": [],
   "source": [
    "def make_graphs(metrics):\n",
    "    fig, axes = plt.subplots(3, 1, figsize=(12, 8))\n",
    "    sns.barplot(ax=axes[0], data=metrics, x=metrics['ARPU'], y=metrics.index.values)\n",
    "    sns.barplot(ax=axes[1], data=metrics, x=metrics['ARPPU'], y=metrics.index.values)\n",
    "    sns.barplot(ax=axes[2], data=metrics, x=metrics['CR'], y=metrics.index.values)"
   ]
  },
  {
   "cell_type": "code",
   "execution_count": 8,
   "id": "9534997c",
   "metadata": {},
   "outputs": [
    {
     "data": {
      "image/png": "[encoded data removed]",
      "text/plain": [
       "<Figure size 864x576 with 3 Axes>"
      ]
     },
     "metadata": {
      "needs_background": "light"
     },
     "output_type": "display_data"
    }
   ],
   "source": [
    "make_graphs(metrics)"
   ]
  },
  {
   "cell_type": "code",
   "execution_count": null,
   "id": "5c0aa616",
   "metadata": {},
   "outputs": [],
   "source": []
  }
 ],
 "metadata": {
  "kernelspec": {
   "display_name": "Python 3 (ipykernel)",
   "language": "python",
   "name": "python3"
  },
  "language_info": {
   "codemirror_mode": {
    "name": "ipython",
    "version": 3
   },
   "file_extension": ".py",
   "mimetype": "text/x-python",
   "name": "python",
   "nbconvert_exporter": "python",
   "pygments_lexer": "ipython3",
   "version": "3.9.7"
  }
 },
 "nbformat": 4,
 "nbformat_minor": 5
}
