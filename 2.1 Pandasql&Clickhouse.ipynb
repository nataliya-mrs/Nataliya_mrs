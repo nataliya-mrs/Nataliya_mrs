{
 "cells": [
  {
   "cell_type": "code",
   "execution_count": 1,
   "id": "5e173fdc",
   "metadata": {},
   "outputs": [],
   "source": [
    "import pandas as pd\n",
    "from pandasql import sqldf\n",
    "import numpy as np\n",
    "from datetime import datetime"
   ]
  },
  {
   "cell_type": "markdown",
   "id": "4e5da7b0",
   "metadata": {},
   "source": [
    "### Текст задания:"
   ]
  },
  {
   "cell_type": "markdown",
   "id": "deae566b",
   "metadata": {},
   "source": [
    "1) Образовательная платформа предлагает пройти студентам курсы по модели trial: студент может решить бесплатно лишь 30 горошин в день. Для неограниченного количества заданий в определенной дисциплине студенту необходимо приобрести полный доступ. Команда провела эксперимент, где был протестирован новый экран оплаты.\n",
    "\n",
    "Дана таблицs peas:\n",
    "\n",
    "* st_id(int) - ID ученика\n",
    "* timest(timestamp) - Время решения карточки\n",
    "* correct(bool) - Правильно ли решена горошина?\n",
    "* subject(text) - Дисциплина, в которой находится горошина\n",
    "\n",
    "studs:\n",
    "\n",
    "* st_id(int) - ID ученика\n",
    "* test_grp(text) - Метка ученика в данном эксперименте\n",
    "\n",
    "и checks:\n",
    "\n",
    "* st_id(int) - ID ученика\n",
    "* sale_time(timestamp) - Время покупки\n",
    "* money(int) - Цена, по которой приобрели данный курс\n",
    "* subject(text) - Дисциплина, на которую приобрели полный доступ"
   ]
  },
  {
   "cell_type": "markdown",
   "id": "00a665a8",
   "metadata": {},
   "source": [
    "Необходимо в одном запросе выгрузить следующую информацию о группах пользователей:\n",
    "\n",
    "1. ARPU \n",
    "2. ARPAU\n",
    "3. ARPPU\n",
    "4. CR в покупку \n",
    "5. СR активного пользователя в покупку \n",
    "6. CR пользователя из активности по математике (subject = ’math’) в покупку курса по математике"
   ]
  },
  {
   "cell_type": "markdown",
   "id": "571b28bf",
   "metadata": {},
   "source": [
    "##### Чтобы проверить правильность запроса попробуем сгенерировать интересующие нас данные и проверить написанный запрос с помощью библиотеки Pandasql"
   ]
  },
  {
   "cell_type": "markdown",
   "id": "bfc0329c",
   "metadata": {},
   "source": [
    "#### Сначала создадим таблицу peas"
   ]
  },
  {
   "cell_type": "code",
   "execution_count": 2,
   "id": "25f45521",
   "metadata": {},
   "outputs": [],
   "source": [
    "# Создаем id пользователей от 1 до 1000\n",
    "all_user_ids = np.arange(1, 1001)"
   ]
  },
  {
   "cell_type": "code",
   "execution_count": 3,
   "id": "102bd72c",
   "metadata": {},
   "outputs": [],
   "source": [
    "n = 10000"
   ]
  },
  {
   "cell_type": "code",
   "execution_count": 4,
   "id": "ad93ed68",
   "metadata": {},
   "outputs": [],
   "source": [
    "# Создаем данные колонки st_id путем случайного выбора\n",
    "st_id = np.random.choice(all_user_ids, n)"
   ]
  },
  {
   "cell_type": "code",
   "execution_count": 5,
   "id": "b65f8948",
   "metadata": {},
   "outputs": [],
   "source": [
    "#times = pd.timedelta_range(start='30 sec', end='20 min', freq='1s') \\\n",
    "        #.total_seconds()\n",
    "#timedelta_ts = np.random.choice(times, n)"
   ]
  },
  {
   "cell_type": "code",
   "execution_count": 6,
   "id": "66b0231a",
   "metadata": {},
   "outputs": [],
   "source": [
    "DT_FMT = \"%d/%m/%Y:%H:%M:%S\"\n",
    "\n",
    "def get_date_range(dt_from, dt_to, freq=\"1D\", dt_fmt=DT_FMT, **kwargs):\n",
    "    \"\"\"\n",
    "    Функция создает список дат в формате timestampб принимая на вход следующие параметры:\n",
    "    dt_from - дата начала периода\n",
    "    dt_to - дата окончания периода\n",
    "    freq - периодичность генерируемых дат\n",
    "    dt_fmt - формат даты\n",
    "    \"\"\"\n",
    "    dt_from = pd.to_datetime(dt_from, format=dt_fmt)\n",
    "    dt_to = pd.to_datetime(dt_to, format=dt_fmt)\n",
    "    date_range = pd.date_range(dt_from, dt_to, freq=freq, **kwargs)\n",
    "    date_timestamp = map(datetime.timestamp, date_range) # переводим в timestamp\n",
    "    all_timest = list(date_timestamp)\n",
    "    return all_timest"
   ]
  },
  {
   "cell_type": "code",
   "execution_count": 7,
   "id": "53e1e81c",
   "metadata": {},
   "outputs": [],
   "source": [
    "# Генерируем перечень дат в заданном промежутке\n",
    "all_solut_time = get_date_range(\"10/03/2020:00:00:05\", \"20/04/2020:23:59:00\", freq=\"30S\")\n",
    "# Выбираем случайным образом список дат длиной n\n",
    "timest = np.random.choice(all_solut_time, n)"
   ]
  },
  {
   "cell_type": "code",
   "execution_count": 8,
   "id": "89337396",
   "metadata": {},
   "outputs": [],
   "source": [
    "# Генерируем перечень учебных дисциплин\n",
    "all_subject = ['math', 'SQL', 'python', 'BI', 'product analysis']\n",
    "# Выбираем случайным образом список учебных дисциплин длиной n\n",
    "subject = np.random.choice(all_subject, n)"
   ]
  },
  {
   "cell_type": "code",
   "execution_count": 9,
   "id": "e27f62a7",
   "metadata": {},
   "outputs": [],
   "source": [
    "user_actions = pd.DataFrame({'st_id': st_id, \n",
    "                             'timest': timest,\n",
    "                             'subject': subject})"
   ]
  },
  {
   "cell_type": "code",
   "execution_count": 10,
   "id": "a5b4bbc9",
   "metadata": {},
   "outputs": [
    {
     "data": {
      "text/html": [
       "<div>\n",
       "<style scoped>\n",
       "    .dataframe tbody tr th:only-of-type {\n",
       "        vertical-align: middle;\n",
       "    }\n",
       "\n",
       "    .dataframe tbody tr th {\n",
       "        vertical-align: top;\n",
       "    }\n",
       "\n",
       "    .dataframe thead th {\n",
       "        text-align: right;\n",
       "    }\n",
       "</style>\n",
       "<table border=\"1\" class=\"dataframe\">\n",
       "  <thead>\n",
       "    <tr style=\"text-align: right;\">\n",
       "      <th></th>\n",
       "      <th>st_id</th>\n",
       "      <th>timest</th>\n",
       "      <th>subject</th>\n",
       "    </tr>\n",
       "  </thead>\n",
       "  <tbody>\n",
       "    <tr>\n",
       "      <th>0</th>\n",
       "      <td>128</td>\n",
       "      <td>1.583792e+09</td>\n",
       "      <td>BI</td>\n",
       "    </tr>\n",
       "    <tr>\n",
       "      <th>1</th>\n",
       "      <td>932</td>\n",
       "      <td>1.586986e+09</td>\n",
       "      <td>product analysis</td>\n",
       "    </tr>\n",
       "    <tr>\n",
       "      <th>2</th>\n",
       "      <td>561</td>\n",
       "      <td>1.585573e+09</td>\n",
       "      <td>math</td>\n",
       "    </tr>\n",
       "    <tr>\n",
       "      <th>3</th>\n",
       "      <td>113</td>\n",
       "      <td>1.585243e+09</td>\n",
       "      <td>SQL</td>\n",
       "    </tr>\n",
       "    <tr>\n",
       "      <th>4</th>\n",
       "      <td>725</td>\n",
       "      <td>1.584687e+09</td>\n",
       "      <td>SQL</td>\n",
       "    </tr>\n",
       "    <tr>\n",
       "      <th>...</th>\n",
       "      <td>...</td>\n",
       "      <td>...</td>\n",
       "      <td>...</td>\n",
       "    </tr>\n",
       "    <tr>\n",
       "      <th>9995</th>\n",
       "      <td>332</td>\n",
       "      <td>1.584515e+09</td>\n",
       "      <td>BI</td>\n",
       "    </tr>\n",
       "    <tr>\n",
       "      <th>9996</th>\n",
       "      <td>910</td>\n",
       "      <td>1.585367e+09</td>\n",
       "      <td>SQL</td>\n",
       "    </tr>\n",
       "    <tr>\n",
       "      <th>9997</th>\n",
       "      <td>984</td>\n",
       "      <td>1.585777e+09</td>\n",
       "      <td>product analysis</td>\n",
       "    </tr>\n",
       "    <tr>\n",
       "      <th>9998</th>\n",
       "      <td>306</td>\n",
       "      <td>1.585462e+09</td>\n",
       "      <td>python</td>\n",
       "    </tr>\n",
       "    <tr>\n",
       "      <th>9999</th>\n",
       "      <td>373</td>\n",
       "      <td>1.587026e+09</td>\n",
       "      <td>SQL</td>\n",
       "    </tr>\n",
       "  </tbody>\n",
       "</table>\n",
       "<p>10000 rows × 3 columns</p>\n",
       "</div>"
      ],
      "text/plain": [
       "      st_id        timest           subject\n",
       "0       128  1.583792e+09                BI\n",
       "1       932  1.586986e+09  product analysis\n",
       "2       561  1.585573e+09              math\n",
       "3       113  1.585243e+09               SQL\n",
       "4       725  1.584687e+09               SQL\n",
       "...     ...           ...               ...\n",
       "9995    332  1.584515e+09                BI\n",
       "9996    910  1.585367e+09               SQL\n",
       "9997    984  1.585777e+09  product analysis\n",
       "9998    306  1.585462e+09            python\n",
       "9999    373  1.587026e+09               SQL\n",
       "\n",
       "[10000 rows x 3 columns]"
      ]
     },
     "execution_count": 10,
     "metadata": {},
     "output_type": "execute_result"
    }
   ],
   "source": [
    "user_actions"
   ]
  },
  {
   "cell_type": "code",
   "execution_count": 11,
   "id": "5dc52302",
   "metadata": {},
   "outputs": [],
   "source": [
    "correct = 0.7\n",
    "def generate_funel_correct(st_id, timest, subject, correct):\n",
    "    \"\"\"\n",
    "    Функция генерирует случайным образом отметку о правильности выполнения задания, учитывая следующие парметры:\n",
    "    st_id - id студента, сгенерированные ранее\n",
    "    timest - время решения задачи в timestamp, сгенерированное ранее\n",
    "    subject - список учебных дисциплин\n",
    "    correct - вероятность правильного решения задания\n",
    "    \"\"\"\n",
    "          \n",
    "    df = pd.DataFrame()\n",
    "    \n",
    "    if np.random.binomial(1, correct, 1)[0]:\n",
    "        df = pd.DataFrame({\n",
    "                           'st_id': st_id, \n",
    "                           'timest': timest,\n",
    "                           'subject': subject,\n",
    "                           'correct': True}, index=[0])\n",
    "    else:\n",
    "        df = pd.DataFrame({\n",
    "                           'st_id': st_id, \n",
    "                           'timest': timest,\n",
    "                           'subject': subject,\n",
    "                           'correct': False}, index=[0])\n",
    "        \n",
    "    return df"
   ]
  },
  {
   "cell_type": "code",
   "execution_count": 12,
   "id": "cb8a5a01",
   "metadata": {},
   "outputs": [],
   "source": [
    "# Создаем пустой df\n",
    "peas = pd.DataFrame()"
   ]
  },
  {
   "cell_type": "code",
   "execution_count": 13,
   "id": "741f1f2f",
   "metadata": {},
   "outputs": [],
   "source": [
    "# Итерируемся по df и запускаем функцию генерации ответов для каждой строки\n",
    "for index, row in user_actions.iterrows():\n",
    "    user_df = generate_funel_correct(row['st_id'], row['timest'], row['subject'], correct=0.7)\n",
    "    peas = peas.append(user_df)"
   ]
  },
  {
   "cell_type": "code",
   "execution_count": 14,
   "id": "e9a6bf54",
   "metadata": {},
   "outputs": [
    {
     "data": {
      "text/html": [
       "<div>\n",
       "<style scoped>\n",
       "    .dataframe tbody tr th:only-of-type {\n",
       "        vertical-align: middle;\n",
       "    }\n",
       "\n",
       "    .dataframe tbody tr th {\n",
       "        vertical-align: top;\n",
       "    }\n",
       "\n",
       "    .dataframe thead th {\n",
       "        text-align: right;\n",
       "    }\n",
       "</style>\n",
       "<table border=\"1\" class=\"dataframe\">\n",
       "  <thead>\n",
       "    <tr style=\"text-align: right;\">\n",
       "      <th></th>\n",
       "      <th>st_id</th>\n",
       "      <th>timest</th>\n",
       "      <th>subject</th>\n",
       "      <th>correct</th>\n",
       "    </tr>\n",
       "  </thead>\n",
       "  <tbody>\n",
       "    <tr>\n",
       "      <th>0</th>\n",
       "      <td>128</td>\n",
       "      <td>1.583792e+09</td>\n",
       "      <td>BI</td>\n",
       "      <td>True</td>\n",
       "    </tr>\n",
       "    <tr>\n",
       "      <th>0</th>\n",
       "      <td>932</td>\n",
       "      <td>1.586986e+09</td>\n",
       "      <td>product analysis</td>\n",
       "      <td>True</td>\n",
       "    </tr>\n",
       "    <tr>\n",
       "      <th>0</th>\n",
       "      <td>561</td>\n",
       "      <td>1.585573e+09</td>\n",
       "      <td>math</td>\n",
       "      <td>False</td>\n",
       "    </tr>\n",
       "    <tr>\n",
       "      <th>0</th>\n",
       "      <td>113</td>\n",
       "      <td>1.585243e+09</td>\n",
       "      <td>SQL</td>\n",
       "      <td>False</td>\n",
       "    </tr>\n",
       "    <tr>\n",
       "      <th>0</th>\n",
       "      <td>725</td>\n",
       "      <td>1.584687e+09</td>\n",
       "      <td>SQL</td>\n",
       "      <td>False</td>\n",
       "    </tr>\n",
       "    <tr>\n",
       "      <th>...</th>\n",
       "      <td>...</td>\n",
       "      <td>...</td>\n",
       "      <td>...</td>\n",
       "      <td>...</td>\n",
       "    </tr>\n",
       "    <tr>\n",
       "      <th>0</th>\n",
       "      <td>332</td>\n",
       "      <td>1.584515e+09</td>\n",
       "      <td>BI</td>\n",
       "      <td>True</td>\n",
       "    </tr>\n",
       "    <tr>\n",
       "      <th>0</th>\n",
       "      <td>910</td>\n",
       "      <td>1.585367e+09</td>\n",
       "      <td>SQL</td>\n",
       "      <td>True</td>\n",
       "    </tr>\n",
       "    <tr>\n",
       "      <th>0</th>\n",
       "      <td>984</td>\n",
       "      <td>1.585777e+09</td>\n",
       "      <td>product analysis</td>\n",
       "      <td>False</td>\n",
       "    </tr>\n",
       "    <tr>\n",
       "      <th>0</th>\n",
       "      <td>306</td>\n",
       "      <td>1.585462e+09</td>\n",
       "      <td>python</td>\n",
       "      <td>False</td>\n",
       "    </tr>\n",
       "    <tr>\n",
       "      <th>0</th>\n",
       "      <td>373</td>\n",
       "      <td>1.587026e+09</td>\n",
       "      <td>SQL</td>\n",
       "      <td>False</td>\n",
       "    </tr>\n",
       "  </tbody>\n",
       "</table>\n",
       "<p>10000 rows × 4 columns</p>\n",
       "</div>"
      ],
      "text/plain": [
       "    st_id        timest           subject  correct\n",
       "0     128  1.583792e+09                BI     True\n",
       "0     932  1.586986e+09  product analysis     True\n",
       "0     561  1.585573e+09              math    False\n",
       "0     113  1.585243e+09               SQL    False\n",
       "0     725  1.584687e+09               SQL    False\n",
       "..    ...           ...               ...      ...\n",
       "0     332  1.584515e+09                BI     True\n",
       "0     910  1.585367e+09               SQL     True\n",
       "0     984  1.585777e+09  product analysis    False\n",
       "0     306  1.585462e+09            python    False\n",
       "0     373  1.587026e+09               SQL    False\n",
       "\n",
       "[10000 rows x 4 columns]"
      ]
     },
     "execution_count": 14,
     "metadata": {},
     "output_type": "execute_result"
    }
   ],
   "source": [
    "peas"
   ]
  },
  {
   "cell_type": "markdown",
   "id": "ad6451af",
   "metadata": {},
   "source": [
    "#### Создадим таблицу studs"
   ]
  },
  {
   "cell_type": "markdown",
   "id": "e315706e",
   "metadata": {},
   "source": [
    "Перечень st_id у нас уже есть. Проставим метку участия ученика в эксперименте"
   ]
  },
  {
   "cell_type": "code",
   "execution_count": 15,
   "id": "d008d497",
   "metadata": {},
   "outputs": [],
   "source": [
    "dev = 0.5\n",
    "def generate_funel_grp(st_id, dev):\n",
    "    \"\"\"\n",
    "    Функция генерирует случайным образом отметку об участии ученика в эксперименте, учитывая следующие парметры:\n",
    "    st_id - id студента, сгенерированные ранее\n",
    "    dev - вероятность деления студентов на тестовую и контрольную группы\n",
    "    \"\"\"\n",
    "          \n",
    "    df = pd.DataFrame()\n",
    "    \n",
    "    if np.random.binomial(1, dev, 1)[0]:\n",
    "        df = pd.DataFrame({\n",
    "                           'st_id': st_id, \n",
    "                           'test_grp': 'test'}, index=[0])\n",
    "    else:\n",
    "        df = pd.DataFrame({\n",
    "                           'st_id': st_id, \n",
    "                           'test_grp': 'control'}, index=[0])\n",
    "        \n",
    "    return df"
   ]
  },
  {
   "cell_type": "code",
   "execution_count": 16,
   "id": "687aa4d2",
   "metadata": {},
   "outputs": [],
   "source": [
    "user_grp = pd.DataFrame({'st_id': all_user_ids})"
   ]
  },
  {
   "cell_type": "code",
   "execution_count": 17,
   "id": "d2e79e6f",
   "metadata": {},
   "outputs": [],
   "source": [
    "# Создаем пустой df\n",
    "studs = pd.DataFrame()"
   ]
  },
  {
   "cell_type": "code",
   "execution_count": 18,
   "id": "b55527f8",
   "metadata": {},
   "outputs": [],
   "source": [
    "# Итерируемся по df и запускаем функцию генерации группы для каждой строки\n",
    "for index, row in user_grp.iterrows():\n",
    "    group_df = generate_funel_grp(row['st_id'], dev=0.5)\n",
    "    studs = studs.append(group_df)"
   ]
  },
  {
   "cell_type": "markdown",
   "id": "55d9e1d7",
   "metadata": {},
   "source": [
    "#### Создадим таблицу checks"
   ]
  },
  {
   "cell_type": "markdown",
   "id": "1be0abd8",
   "metadata": {},
   "source": [
    "Эта таблица посвящена тем студентам, которые проходят курс платно, поэтому n будет меньше."
   ]
  },
  {
   "cell_type": "code",
   "execution_count": 19,
   "id": "c1e7375b",
   "metadata": {},
   "outputs": [],
   "source": [
    "n = 600"
   ]
  },
  {
   "cell_type": "code",
   "execution_count": 20,
   "id": "1529308b",
   "metadata": {},
   "outputs": [],
   "source": [
    "# Создаем данные колонки st_id путем случайного выбора\n",
    "st_id = np.random.choice(studs.st_id, n)"
   ]
  },
  {
   "cell_type": "code",
   "execution_count": 21,
   "id": "e0dbea0a",
   "metadata": {},
   "outputs": [],
   "source": [
    "# Генерируем перечень дат в заданном промежутке\n",
    "all_buying_time = get_date_range(\"10/03/2020:00:00:05\", \"20/04/2020:23:59:00\", freq=\"5M\")\n",
    "# Выбираем случайным образом список дат длиной n\n",
    "timest = np.random.choice(all_buying_time, n)"
   ]
  },
  {
   "cell_type": "code",
   "execution_count": 22,
   "id": "d4f38648",
   "metadata": {},
   "outputs": [],
   "source": [
    "# Генерируем перечень стоимостей курса\n",
    "all_money = [50, 75, 85, 100]\n",
    "# Выбираем случайным образом список учебных дисциплин длиной n\n",
    "money = np.random.choice(all_money, n)"
   ]
  },
  {
   "cell_type": "code",
   "execution_count": 23,
   "id": "47b2e411",
   "metadata": {},
   "outputs": [],
   "source": [
    "# Генерируем перечень учебных дисциплин\n",
    "all_subject = ['math', 'SQL', 'python', 'BI', 'product analysis']\n",
    "# Выбираем случайным образом список учебных дисциплин длиной n\n",
    "subject = np.random.choice(all_subject, n)"
   ]
  },
  {
   "cell_type": "code",
   "execution_count": 24,
   "id": "748d4fea",
   "metadata": {},
   "outputs": [],
   "source": [
    "checks = pd.DataFrame({'st_id': st_id, \n",
    "                      'sale_time': timest,\n",
    "                      'money': money, \n",
    "                      'subject': subject})"
   ]
  },
  {
   "cell_type": "markdown",
   "id": "28f5f56f",
   "metadata": {},
   "source": [
    "Напишем запрос"
   ]
  },
  {
   "cell_type": "code",
   "execution_count": 25,
   "id": "eea492b6",
   "metadata": {},
   "outputs": [],
   "source": [
    "SQL_1 = \"\"\"\n",
    "     SELECT\n",
    "        test_grp,\n",
    "        sum(ch.money) / count(DISTINCT st.st_id)                               AS ARPU,\n",
    "        sum(ch.money) / count(DISTINCT ch.st_id)                               AS ARPPU,\n",
    "        (count(DISTINCT ch.st_id) * 100 / count(DISTINCT st.st_id))            AS CR_to_purchase,\n",
    "        (count(DISTINCT ch.st_id) * 100 / count(DISTINCT p.st_id))             AS CR_active_user_to_purchase,\n",
    "        count(DISTINCT CASE WHEN p.subject = 'math' AND ch.subject = 'math' THEN st.st_id END) * 100 \n",
    "        / count(DISTINCT CASE WHEN p.subject = 'math' THEN st.st_id END)       AS CR_math\n",
    "    FROM peas AS p                                                                 -- все пользователи в эксперименте\n",
    "    LEFT JOIN studs AS st ON p.st_id = st.st_id                                        -- активные пользователи\n",
    "    LEFT JOIN checks AS ch ON p.st_id = ch.st_id                                    -- платящие пользователи\n",
    "    GROUP BY test_grp\n",
    "    \"\"\""
   ]
  },
  {
   "cell_type": "code",
   "execution_count": 26,
   "id": "660518b9",
   "metadata": {},
   "outputs": [
    {
     "data": {
      "text/html": [
       "<div>\n",
       "<style scoped>\n",
       "    .dataframe tbody tr th:only-of-type {\n",
       "        vertical-align: middle;\n",
       "    }\n",
       "\n",
       "    .dataframe tbody tr th {\n",
       "        vertical-align: top;\n",
       "    }\n",
       "\n",
       "    .dataframe thead th {\n",
       "        text-align: right;\n",
       "    }\n",
       "</style>\n",
       "<table border=\"1\" class=\"dataframe\">\n",
       "  <thead>\n",
       "    <tr style=\"text-align: right;\">\n",
       "      <th></th>\n",
       "      <th>test_grp</th>\n",
       "      <th>ARPU</th>\n",
       "      <th>ARPPU</th>\n",
       "      <th>CR_to_purchase</th>\n",
       "      <th>CR_active_user_to_purchase</th>\n",
       "      <th>CR_math</th>\n",
       "    </tr>\n",
       "  </thead>\n",
       "  <tbody>\n",
       "    <tr>\n",
       "      <th>0</th>\n",
       "      <td>control</td>\n",
       "      <td>439</td>\n",
       "      <td>1014</td>\n",
       "      <td>43</td>\n",
       "      <td>43</td>\n",
       "      <td>9</td>\n",
       "    </tr>\n",
       "    <tr>\n",
       "      <th>1</th>\n",
       "      <td>test</td>\n",
       "      <td>504</td>\n",
       "      <td>1045</td>\n",
       "      <td>48</td>\n",
       "      <td>48</td>\n",
       "      <td>12</td>\n",
       "    </tr>\n",
       "  </tbody>\n",
       "</table>\n",
       "</div>"
      ],
      "text/plain": [
       "  test_grp  ARPU  ARPPU  CR_to_purchase  CR_active_user_to_purchase  CR_math\n",
       "0  control   439   1014              43                          43        9\n",
       "1     test   504   1045              48                          48       12"
      ]
     },
     "execution_count": 26,
     "metadata": {},
     "output_type": "execute_result"
    }
   ],
   "source": [
    "sqldf(SQL_1)"
   ]
  },
  {
   "cell_type": "markdown",
   "id": "7703cf09",
   "metadata": {},
   "source": [
    "##### Проверим в pandas"
   ]
  },
  {
   "cell_type": "code",
   "execution_count": 27,
   "id": "7ece9c16",
   "metadata": {},
   "outputs": [
    {
     "data": {
      "text/html": [
       "<div>\n",
       "<style scoped>\n",
       "    .dataframe tbody tr th:only-of-type {\n",
       "        vertical-align: middle;\n",
       "    }\n",
       "\n",
       "    .dataframe tbody tr th {\n",
       "        vertical-align: top;\n",
       "    }\n",
       "\n",
       "    .dataframe thead th {\n",
       "        text-align: right;\n",
       "    }\n",
       "</style>\n",
       "<table border=\"1\" class=\"dataframe\">\n",
       "  <thead>\n",
       "    <tr style=\"text-align: right;\">\n",
       "      <th></th>\n",
       "      <th>st_id</th>\n",
       "      <th>timest</th>\n",
       "      <th>subject_x</th>\n",
       "      <th>correct</th>\n",
       "      <th>test_grp</th>\n",
       "      <th>sale_time</th>\n",
       "      <th>money</th>\n",
       "      <th>subject_y</th>\n",
       "    </tr>\n",
       "  </thead>\n",
       "  <tbody>\n",
       "    <tr>\n",
       "      <th>0</th>\n",
       "      <td>128</td>\n",
       "      <td>1.583792e+09</td>\n",
       "      <td>BI</td>\n",
       "      <td>True</td>\n",
       "      <td>test</td>\n",
       "      <td>NaN</td>\n",
       "      <td>NaN</td>\n",
       "      <td>NaN</td>\n",
       "    </tr>\n",
       "    <tr>\n",
       "      <th>1</th>\n",
       "      <td>932</td>\n",
       "      <td>1.586986e+09</td>\n",
       "      <td>product analysis</td>\n",
       "      <td>True</td>\n",
       "      <td>test</td>\n",
       "      <td>1.585595e+09</td>\n",
       "      <td>85.0</td>\n",
       "      <td>SQL</td>\n",
       "    </tr>\n",
       "    <tr>\n",
       "      <th>2</th>\n",
       "      <td>561</td>\n",
       "      <td>1.585573e+09</td>\n",
       "      <td>math</td>\n",
       "      <td>False</td>\n",
       "      <td>test</td>\n",
       "      <td>NaN</td>\n",
       "      <td>NaN</td>\n",
       "      <td>NaN</td>\n",
       "    </tr>\n",
       "    <tr>\n",
       "      <th>3</th>\n",
       "      <td>113</td>\n",
       "      <td>1.585243e+09</td>\n",
       "      <td>SQL</td>\n",
       "      <td>False</td>\n",
       "      <td>test</td>\n",
       "      <td>1.585595e+09</td>\n",
       "      <td>50.0</td>\n",
       "      <td>SQL</td>\n",
       "    </tr>\n",
       "    <tr>\n",
       "      <th>4</th>\n",
       "      <td>725</td>\n",
       "      <td>1.584687e+09</td>\n",
       "      <td>SQL</td>\n",
       "      <td>False</td>\n",
       "      <td>control</td>\n",
       "      <td>1.585595e+09</td>\n",
       "      <td>85.0</td>\n",
       "      <td>python</td>\n",
       "    </tr>\n",
       "  </tbody>\n",
       "</table>\n",
       "</div>"
      ],
      "text/plain": [
       "   st_id        timest         subject_x  correct test_grp     sale_time  \\\n",
       "0    128  1.583792e+09                BI     True     test           NaN   \n",
       "1    932  1.586986e+09  product analysis     True     test  1.585595e+09   \n",
       "2    561  1.585573e+09              math    False     test           NaN   \n",
       "3    113  1.585243e+09               SQL    False     test  1.585595e+09   \n",
       "4    725  1.584687e+09               SQL    False  control  1.585595e+09   \n",
       "\n",
       "   money subject_y  \n",
       "0    NaN       NaN  \n",
       "1   85.0       SQL  \n",
       "2    NaN       NaN  \n",
       "3   50.0       SQL  \n",
       "4   85.0    python  "
      ]
     },
     "execution_count": 27,
     "metadata": {},
     "output_type": "execute_result"
    }
   ],
   "source": [
    "common_df = peas.merge(studs, on='st_id', how='left') \\\n",
    "            .merge(checks, on='st_id', how='left')\n",
    "common_df.head()"
   ]
  },
  {
   "cell_type": "code",
   "execution_count": 28,
   "id": "227b3c71",
   "metadata": {},
   "outputs": [],
   "source": [
    "metrics = pd.DataFrame(columns={\n",
    "                        'all_users',\n",
    "                        'paying_users',\n",
    "                        'ARPU',\n",
    "                        'ARPPU',\n",
    "                        'CR_to_purchase',\n",
    "                        'CR_active_user_to_purchase',\n",
    "                        'CR_math'}, \n",
    "                       index=['control', 'test'])"
   ]
  },
  {
   "cell_type": "code",
   "execution_count": 29,
   "id": "91e5c0d0",
   "metadata": {},
   "outputs": [],
   "source": [
    "active_math = common_df.query('subject_x == \"math\"') \\\n",
    "                       .groupby('test_grp') \\\n",
    "                       .st_id \\\n",
    "                       .nunique()\n",
    "\n",
    "purchase_math = common_df.query('subject_y == \"math\" and subject_x == \"math\"') \\\n",
    "                         .groupby('test_grp') \\\n",
    "                         .st_id \\\n",
    "                         .nunique()"
   ]
  },
  {
   "cell_type": "code",
   "execution_count": 30,
   "id": "0a6dfbfd",
   "metadata": {},
   "outputs": [],
   "source": [
    "metrics['all_users'] = common_df.groupby('test_grp').st_id.nunique().values\n",
    "metrics['paying_users'] = common_df.query('money > 0') \\\n",
    "                                   .groupby('test_grp') \\\n",
    "                                   .agg({'st_id': 'nunique'}).values\n",
    "metrics['active_users'] = common_df.query('timest > 0') \\\n",
    "                                   .groupby('test_grp') \\\n",
    "                                   .agg({'st_id': 'nunique'}).values\n",
    "metrics['revenue'] = common_df.groupby('test_grp').agg({'money': 'sum'}).values\n",
    "metrics['ARPU'] = metrics.revenue / metrics.all_users\n",
    "metrics['ARPPU'] = metrics.revenue / metrics.paying_users\n",
    "metrics['CR_to_purchase'] = metrics.paying_users / metrics.all_users * 100\n",
    "metrics['CR_active_user_to_purchase'] = metrics.paying_users / metrics.active_users * 100\n",
    "metrics['CR_math'] = purchase_math * 100 / active_math "
   ]
  },
  {
   "cell_type": "code",
   "execution_count": 31,
   "id": "aba9a541",
   "metadata": {},
   "outputs": [
    {
     "data": {
      "text/html": [
       "<div>\n",
       "<style scoped>\n",
       "    .dataframe tbody tr th:only-of-type {\n",
       "        vertical-align: middle;\n",
       "    }\n",
       "\n",
       "    .dataframe tbody tr th {\n",
       "        vertical-align: top;\n",
       "    }\n",
       "\n",
       "    .dataframe thead th {\n",
       "        text-align: right;\n",
       "    }\n",
       "</style>\n",
       "<table border=\"1\" class=\"dataframe\">\n",
       "  <thead>\n",
       "    <tr style=\"text-align: right;\">\n",
       "      <th></th>\n",
       "      <th>all_users</th>\n",
       "      <th>CR_to_purchase</th>\n",
       "      <th>ARPPU</th>\n",
       "      <th>CR_math</th>\n",
       "      <th>CR_active_user_to_purchase</th>\n",
       "      <th>paying_users</th>\n",
       "      <th>ARPU</th>\n",
       "      <th>active_users</th>\n",
       "      <th>revenue</th>\n",
       "    </tr>\n",
       "  </thead>\n",
       "  <tbody>\n",
       "    <tr>\n",
       "      <th>control</th>\n",
       "      <td>501</td>\n",
       "      <td>43.313373</td>\n",
       "      <td>1014.953917</td>\n",
       "      <td>9.728507</td>\n",
       "      <td>43.313373</td>\n",
       "      <td>217</td>\n",
       "      <td>439.610778</td>\n",
       "      <td>501</td>\n",
       "      <td>220245.0</td>\n",
       "    </tr>\n",
       "    <tr>\n",
       "      <th>test</th>\n",
       "      <td>499</td>\n",
       "      <td>48.296593</td>\n",
       "      <td>1045.000000</td>\n",
       "      <td>12.296984</td>\n",
       "      <td>48.296593</td>\n",
       "      <td>241</td>\n",
       "      <td>504.699399</td>\n",
       "      <td>499</td>\n",
       "      <td>251845.0</td>\n",
       "    </tr>\n",
       "  </tbody>\n",
       "</table>\n",
       "</div>"
      ],
      "text/plain": [
       "         all_users  CR_to_purchase        ARPPU    CR_math  \\\n",
       "control        501       43.313373  1014.953917   9.728507   \n",
       "test           499       48.296593  1045.000000  12.296984   \n",
       "\n",
       "         CR_active_user_to_purchase  paying_users        ARPU  active_users  \\\n",
       "control                   43.313373           217  439.610778           501   \n",
       "test                      48.296593           241  504.699399           499   \n",
       "\n",
       "          revenue  \n",
       "control  220245.0  \n",
       "test     251845.0  "
      ]
     },
     "execution_count": 31,
     "metadata": {},
     "output_type": "execute_result"
    }
   ],
   "source": [
    "metrics"
   ]
  },
  {
   "cell_type": "code",
   "execution_count": null,
   "id": "080e3fd2",
   "metadata": {},
   "outputs": [],
   "source": []
  },
  {
   "cell_type": "markdown",
   "id": "db751d7a",
   "metadata": {},
   "source": [
    "1) Образовательные курсы состоят из различных уроков, каждый из которых состоит из нескольких маленьких заданий. Каждое такое маленькое задание называется \"горошиной\". Назовём очень усердным учеником того пользователя, который хотя бы раз за текущий месяц правильно решил 20 горошин за час.\n",
    "Необходимо написать оптимальный запрос, который даст информацию о количестве очень усердных студентов за март 2020 года."
   ]
  },
  {
   "cell_type": "markdown",
   "id": "4cf7ba05",
   "metadata": {},
   "source": [
    "Дана таблица peas:\n",
    "\n",
    "* st_id(int) - ID ученика\n",
    "* timest(timestamp) - Время решения карточки\n",
    "* correct(bool) - Правильно ли решена горошина?\n",
    "* subject(text) - Дисциплина, в которой находится горошина"
   ]
  },
  {
   "cell_type": "markdown",
   "id": "d1ccc4b6",
   "metadata": {},
   "source": [
    "Напишем данный запрос для Clickhouse. "
   ]
  },
  {
   "cell_type": "code",
   "execution_count": 32,
   "id": "c3b8dd4d",
   "metadata": {},
   "outputs": [],
   "source": [
    "SQL_2 = \"\"\"\n",
    "    SELECT DISTINCT st_id\n",
    "    FROM\n",
    "    (\n",
    "        SELECT\n",
    "            st_id,\n",
    "            COUNT(*) AS peas\n",
    "        FROM peas\n",
    "\n",
    "        WHERE correct = True\n",
    "          AND toMonth(timest) = 3\n",
    "          AND toYear(timest)  = 2020\n",
    "\n",
    "        GROUP BY st_id, date_trunc('hour', timest)\n",
    "        HAVING COUNT(*) > 20\n",
    "    )\n",
    "\"\"\""
   ]
  },
  {
   "cell_type": "code",
   "execution_count": null,
   "id": "fed8c149",
   "metadata": {},
   "outputs": [],
   "source": []
  }
 ],
 "metadata": {
  "kernelspec": {
   "display_name": "Python 3 (ipykernel)",
   "language": "python",
   "name": "python3"
  },
  "language_info": {
   "codemirror_mode": {
    "name": "ipython",
    "version": 3
   },
   "file_extension": ".py",
   "mimetype": "text/x-python",
   "name": "python",
   "nbconvert_exporter": "python",
   "pygments_lexer": "ipython3",
   "version": "3.9.7"
  }
 },
 "nbformat": 4,
 "nbformat_minor": 5
}
